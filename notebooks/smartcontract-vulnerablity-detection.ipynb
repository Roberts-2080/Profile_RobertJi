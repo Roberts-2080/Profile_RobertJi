{
 "cells": [
  {
   "cell_type": "markdown",
   "id": "042e8b15",
   "metadata": {
    "papermill": {
     "duration": 0.012535,
     "end_time": "2024-05-20T12:49:12.587119",
     "exception": false,
     "start_time": "2024-05-20T12:49:12.574584",
     "status": "completed"
    },
    "tags": []
   },
   "source": [
    "# Install and import necessary dependencies"
   ]
  },
  {
   "cell_type": "code",
   "execution_count": 1,
   "id": "9d28360b",
   "metadata": {
    "execution": {
     "iopub.execute_input": "2024-05-20T12:49:12.612340Z",
     "iopub.status.busy": "2024-05-20T12:49:12.611889Z",
     "iopub.status.idle": "2024-05-20T12:49:26.001702Z",
     "shell.execute_reply": "2024-05-20T12:49:26.000696Z"
    },
    "papermill": {
     "duration": 13.405303,
     "end_time": "2024-05-20T12:49:26.004235",
     "exception": false,
     "start_time": "2024-05-20T12:49:12.598932",
     "status": "completed"
    },
    "tags": []
   },
   "outputs": [
    {
     "name": "stdout",
     "output_type": "stream",
     "text": [
      "Requirement already satisfied: keras_core in /opt/conda/lib/python3.10/site-packages (0.1.7)\r\n",
      "Requirement already satisfied: keras_nlp in /opt/conda/lib/python3.10/site-packages (0.7.0)\r\n",
      "Requirement already satisfied: absl-py in /opt/conda/lib/python3.10/site-packages (from keras_core) (1.4.0)\r\n",
      "Requirement already satisfied: numpy in /opt/conda/lib/python3.10/site-packages (from keras_core) (1.24.3)\r\n",
      "Requirement already satisfied: rich in /opt/conda/lib/python3.10/site-packages (from keras_core) (13.5.2)\r\n",
      "Requirement already satisfied: namex in /opt/conda/lib/python3.10/site-packages (from keras_core) (0.0.7)\r\n",
      "Requirement already satisfied: h5py in /opt/conda/lib/python3.10/site-packages (from keras_core) (3.9.0)\r\n",
      "Requirement already satisfied: dm-tree in /opt/conda/lib/python3.10/site-packages (from keras_core) (0.1.8)\r\n",
      "Requirement already satisfied: packaging in /opt/conda/lib/python3.10/site-packages (from keras_nlp) (21.3)\r\n",
      "Requirement already satisfied: regex in /opt/conda/lib/python3.10/site-packages (from keras_nlp) (2023.8.8)\r\n",
      "Requirement already satisfied: kagglehub in /opt/conda/lib/python3.10/site-packages (from keras_nlp) (0.1.5)\r\n",
      "Requirement already satisfied: tensorflow-text in /opt/conda/lib/python3.10/site-packages (from keras_nlp) (2.13.0)\r\n",
      "Requirement already satisfied: requests in /opt/conda/lib/python3.10/site-packages (from kagglehub->keras_nlp) (2.31.0)\r\n",
      "Requirement already satisfied: tqdm in /opt/conda/lib/python3.10/site-packages (from kagglehub->keras_nlp) (4.66.1)\r\n",
      "Requirement already satisfied: pyparsing!=3.0.5,>=2.0.2 in /opt/conda/lib/python3.10/site-packages (from packaging->keras_nlp) (3.0.9)\r\n",
      "Requirement already satisfied: markdown-it-py>=2.2.0 in /opt/conda/lib/python3.10/site-packages (from rich->keras_core) (3.0.0)\r\n",
      "Requirement already satisfied: pygments<3.0.0,>=2.13.0 in /opt/conda/lib/python3.10/site-packages (from rich->keras_core) (2.16.1)\r\n",
      "Requirement already satisfied: tensorflow-hub>=0.8.0 in /opt/conda/lib/python3.10/site-packages (from tensorflow-text->keras_nlp) (0.14.0)\r\n",
      "Requirement already satisfied: tensorflow<2.14,>=2.13.0 in /opt/conda/lib/python3.10/site-packages (from tensorflow-text->keras_nlp) (2.13.0)\r\n",
      "Requirement already satisfied: mdurl~=0.1 in /opt/conda/lib/python3.10/site-packages (from markdown-it-py>=2.2.0->rich->keras_core) (0.1.2)\r\n",
      "Requirement already satisfied: astunparse>=1.6.0 in /opt/conda/lib/python3.10/site-packages (from tensorflow<2.14,>=2.13.0->tensorflow-text->keras_nlp) (1.6.3)\r\n",
      "Requirement already satisfied: flatbuffers>=23.1.21 in /opt/conda/lib/python3.10/site-packages (from tensorflow<2.14,>=2.13.0->tensorflow-text->keras_nlp) (23.5.26)\r\n",
      "Requirement already satisfied: gast<=0.4.0,>=0.2.1 in /opt/conda/lib/python3.10/site-packages (from tensorflow<2.14,>=2.13.0->tensorflow-text->keras_nlp) (0.4.0)\r\n",
      "Requirement already satisfied: google-pasta>=0.1.1 in /opt/conda/lib/python3.10/site-packages (from tensorflow<2.14,>=2.13.0->tensorflow-text->keras_nlp) (0.2.0)\r\n",
      "Requirement already satisfied: grpcio<2.0,>=1.24.3 in /opt/conda/lib/python3.10/site-packages (from tensorflow<2.14,>=2.13.0->tensorflow-text->keras_nlp) (1.51.1)\r\n",
      "Requirement already satisfied: keras<2.14,>=2.13.1 in /opt/conda/lib/python3.10/site-packages (from tensorflow<2.14,>=2.13.0->tensorflow-text->keras_nlp) (2.13.1)\r\n",
      "Requirement already satisfied: libclang>=13.0.0 in /opt/conda/lib/python3.10/site-packages (from tensorflow<2.14,>=2.13.0->tensorflow-text->keras_nlp) (16.0.6)\r\n",
      "Requirement already satisfied: opt-einsum>=2.3.2 in /opt/conda/lib/python3.10/site-packages (from tensorflow<2.14,>=2.13.0->tensorflow-text->keras_nlp) (3.3.0)\r\n",
      "Requirement already satisfied: protobuf!=4.21.0,!=4.21.1,!=4.21.2,!=4.21.3,!=4.21.4,!=4.21.5,<5.0.0dev,>=3.20.3 in /opt/conda/lib/python3.10/site-packages (from tensorflow<2.14,>=2.13.0->tensorflow-text->keras_nlp) (3.20.3)\r\n",
      "Requirement already satisfied: setuptools in /opt/conda/lib/python3.10/site-packages (from tensorflow<2.14,>=2.13.0->tensorflow-text->keras_nlp) (68.1.2)\r\n",
      "Requirement already satisfied: six>=1.12.0 in /opt/conda/lib/python3.10/site-packages (from tensorflow<2.14,>=2.13.0->tensorflow-text->keras_nlp) (1.16.0)\r\n",
      "Requirement already satisfied: tensorboard<2.14,>=2.13 in /opt/conda/lib/python3.10/site-packages (from tensorflow<2.14,>=2.13.0->tensorflow-text->keras_nlp) (2.13.0)\r\n",
      "Requirement already satisfied: tensorflow-estimator<2.14,>=2.13.0 in /opt/conda/lib/python3.10/site-packages (from tensorflow<2.14,>=2.13.0->tensorflow-text->keras_nlp) (2.13.0)\r\n",
      "Requirement already satisfied: termcolor>=1.1.0 in /opt/conda/lib/python3.10/site-packages (from tensorflow<2.14,>=2.13.0->tensorflow-text->keras_nlp) (2.3.0)\r\n",
      "Requirement already satisfied: typing-extensions<4.6.0,>=3.6.6 in /opt/conda/lib/python3.10/site-packages (from tensorflow<2.14,>=2.13.0->tensorflow-text->keras_nlp) (4.5.0)\r\n",
      "Requirement already satisfied: wrapt>=1.11.0 in /opt/conda/lib/python3.10/site-packages (from tensorflow<2.14,>=2.13.0->tensorflow-text->keras_nlp) (1.15.0)\r\n",
      "Requirement already satisfied: tensorflow-io-gcs-filesystem>=0.23.1 in /opt/conda/lib/python3.10/site-packages (from tensorflow<2.14,>=2.13.0->tensorflow-text->keras_nlp) (0.34.0)\r\n",
      "Requirement already satisfied: charset-normalizer<4,>=2 in /opt/conda/lib/python3.10/site-packages (from requests->kagglehub->keras_nlp) (3.2.0)\r\n",
      "Requirement already satisfied: idna<4,>=2.5 in /opt/conda/lib/python3.10/site-packages (from requests->kagglehub->keras_nlp) (3.4)\r\n",
      "Requirement already satisfied: urllib3<3,>=1.21.1 in /opt/conda/lib/python3.10/site-packages (from requests->kagglehub->keras_nlp) (1.26.15)\r\n",
      "Requirement already satisfied: certifi>=2017.4.17 in /opt/conda/lib/python3.10/site-packages (from requests->kagglehub->keras_nlp) (2023.11.17)\r\n",
      "Requirement already satisfied: wheel<1.0,>=0.23.0 in /opt/conda/lib/python3.10/site-packages (from astunparse>=1.6.0->tensorflow<2.14,>=2.13.0->tensorflow-text->keras_nlp) (0.41.2)\r\n",
      "Requirement already satisfied: google-auth<3,>=1.6.3 in /opt/conda/lib/python3.10/site-packages (from tensorboard<2.14,>=2.13->tensorflow<2.14,>=2.13.0->tensorflow-text->keras_nlp) (2.22.0)\r\n",
      "Requirement already satisfied: google-auth-oauthlib<1.1,>=0.5 in /opt/conda/lib/python3.10/site-packages (from tensorboard<2.14,>=2.13->tensorflow<2.14,>=2.13.0->tensorflow-text->keras_nlp) (1.0.0)\r\n",
      "Requirement already satisfied: markdown>=2.6.8 in /opt/conda/lib/python3.10/site-packages (from tensorboard<2.14,>=2.13->tensorflow<2.14,>=2.13.0->tensorflow-text->keras_nlp) (3.4.4)\r\n",
      "Requirement already satisfied: tensorboard-data-server<0.8.0,>=0.7.0 in /opt/conda/lib/python3.10/site-packages (from tensorboard<2.14,>=2.13->tensorflow<2.14,>=2.13.0->tensorflow-text->keras_nlp) (0.7.1)\r\n",
      "Requirement already satisfied: werkzeug>=1.0.1 in /opt/conda/lib/python3.10/site-packages (from tensorboard<2.14,>=2.13->tensorflow<2.14,>=2.13.0->tensorflow-text->keras_nlp) (3.0.1)\r\n",
      "Requirement already satisfied: cachetools<6.0,>=2.0.0 in /opt/conda/lib/python3.10/site-packages (from google-auth<3,>=1.6.3->tensorboard<2.14,>=2.13->tensorflow<2.14,>=2.13.0->tensorflow-text->keras_nlp) (4.2.4)\r\n",
      "Requirement already satisfied: pyasn1-modules>=0.2.1 in /opt/conda/lib/python3.10/site-packages (from google-auth<3,>=1.6.3->tensorboard<2.14,>=2.13->tensorflow<2.14,>=2.13.0->tensorflow-text->keras_nlp) (0.2.7)\r\n",
      "Requirement already satisfied: rsa<5,>=3.1.4 in /opt/conda/lib/python3.10/site-packages (from google-auth<3,>=1.6.3->tensorboard<2.14,>=2.13->tensorflow<2.14,>=2.13.0->tensorflow-text->keras_nlp) (4.9)\r\n",
      "Requirement already satisfied: requests-oauthlib>=0.7.0 in /opt/conda/lib/python3.10/site-packages (from google-auth-oauthlib<1.1,>=0.5->tensorboard<2.14,>=2.13->tensorflow<2.14,>=2.13.0->tensorflow-text->keras_nlp) (1.3.1)\r\n",
      "Requirement already satisfied: MarkupSafe>=2.1.1 in /opt/conda/lib/python3.10/site-packages (from werkzeug>=1.0.1->tensorboard<2.14,>=2.13->tensorflow<2.14,>=2.13.0->tensorflow-text->keras_nlp) (2.1.3)\r\n",
      "Requirement already satisfied: pyasn1<0.5.0,>=0.4.6 in /opt/conda/lib/python3.10/site-packages (from pyasn1-modules>=0.2.1->google-auth<3,>=1.6.3->tensorboard<2.14,>=2.13->tensorflow<2.14,>=2.13.0->tensorflow-text->keras_nlp) (0.4.8)\r\n",
      "Requirement already satisfied: oauthlib>=3.0.0 in /opt/conda/lib/python3.10/site-packages (from requests-oauthlib>=0.7.0->google-auth-oauthlib<1.1,>=0.5->tensorboard<2.14,>=2.13->tensorflow<2.14,>=2.13.0->tensorflow-text->keras_nlp) (3.2.2)\r\n"
     ]
    }
   ],
   "source": [
    "!pip install  keras_core keras_nlp "
   ]
  },
  {
   "cell_type": "code",
   "execution_count": 2,
   "id": "63dca512",
   "metadata": {
    "execution": {
     "iopub.execute_input": "2024-05-20T12:49:26.030621Z",
     "iopub.status.busy": "2024-05-20T12:49:26.030317Z",
     "iopub.status.idle": "2024-05-20T12:49:40.850988Z",
     "shell.execute_reply": "2024-05-20T12:49:40.850080Z"
    },
    "papermill": {
     "duration": 14.83643,
     "end_time": "2024-05-20T12:49:40.853101",
     "exception": false,
     "start_time": "2024-05-20T12:49:26.016671",
     "status": "completed"
    },
    "tags": []
   },
   "outputs": [
    {
     "name": "stderr",
     "output_type": "stream",
     "text": [
      "/opt/conda/lib/python3.10/site-packages/scipy/__init__.py:146: UserWarning: A NumPy version >=1.16.5 and <1.23.0 is required for this version of SciPy (detected version 1.24.3\n",
      "  warnings.warn(f\"A NumPy version >={np_minversion} and <{np_maxversion}\"\n"
     ]
    },
    {
     "name": "stdout",
     "output_type": "stream",
     "text": [
      "[nltk_data] Downloading package stopwords to /usr/share/nltk_data...\n",
      "[nltk_data]   Package stopwords is already up-to-date!\n"
     ]
    },
    {
     "data": {
      "text/plain": [
       "True"
      ]
     },
     "execution_count": 2,
     "metadata": {},
     "output_type": "execute_result"
    }
   ],
   "source": [
    "import os\n",
    "import matplotlib.pyplot as plt\n",
    "import tensorflow as tf\n",
    "from sklearn.preprocessing import LabelEncoder\n",
    "from sklearn.model_selection import train_test_split\n",
    "from collections import Counter\n",
    "from keras.preprocessing.text import Tokenizer\n",
    "from keras.utils import pad_sequences\n",
    "from keras.preprocessing.text import Tokenizer\n",
    "from keras.utils import pad_sequences\n",
    "from keras.utils import to_categorical\n",
    "from keras.models import Sequential, Model\n",
    "from keras.layers import Dense,Dropout,Input,Embedding,Flatten,TextVectorization,Conv1D,GlobalMaxPooling1D,MaxPooling1D,GlobalAveragePooling1D\n",
    "from keras.initializers import Constant\n",
    "from keras.layers import Dense,LSTM,Bidirectional,Attention,Concatenate,GRU,BatchNormalization\n",
    "import nltk\n",
    "from nltk.corpus import stopwords\n",
    "import re\n",
    "import seaborn as sns\n",
    "nltk.download('stopwords')"
   ]
  },
  {
   "cell_type": "code",
   "execution_count": 3,
   "id": "1ac94c33",
   "metadata": {
    "execution": {
     "iopub.execute_input": "2024-05-20T12:49:40.880648Z",
     "iopub.status.busy": "2024-05-20T12:49:40.880113Z",
     "iopub.status.idle": "2024-05-20T12:49:42.268525Z",
     "shell.execute_reply": "2024-05-20T12:49:42.267483Z"
    },
    "papermill": {
     "duration": 1.404939,
     "end_time": "2024-05-20T12:49:42.270632",
     "exception": false,
     "start_time": "2024-05-20T12:49:40.865693",
     "status": "completed"
    },
    "tags": []
   },
   "outputs": [
    {
     "name": "stdout",
     "output_type": "stream",
     "text": [
      "Using 2 GPUs\n"
     ]
    }
   ],
   "source": [
    "# Enable multiple gpus\n",
    "gpus = tf.config.list_physical_devices('GPU')\n",
    "if len(gpus)<=1: \n",
    "    strategy = tf.distribute.OneDeviceStrategy(device=\"/gpu:0\")\n",
    "    print(f'Using {len(gpus)} GPU')\n",
    "else: \n",
    "    strategy = tf.distribute.MirroredStrategy()\n",
    "    print(f'Using {len(gpus)} GPUs')\n"
   ]
  },
  {
   "cell_type": "code",
   "execution_count": 4,
   "id": "b7d67112",
   "metadata": {
    "execution": {
     "iopub.execute_input": "2024-05-20T12:49:42.297828Z",
     "iopub.status.busy": "2024-05-20T12:49:42.297526Z",
     "iopub.status.idle": "2024-05-20T12:49:42.812097Z",
     "shell.execute_reply": "2024-05-20T12:49:42.811078Z"
    },
    "papermill": {
     "duration": 0.531136,
     "end_time": "2024-05-20T12:49:42.814758",
     "exception": false,
     "start_time": "2024-05-20T12:49:42.283622",
     "status": "completed"
    },
    "tags": []
   },
   "outputs": [
    {
     "data": {
      "text/html": [
       "<div>\n",
       "<style scoped>\n",
       "    .dataframe tbody tr th:only-of-type {\n",
       "        vertical-align: middle;\n",
       "    }\n",
       "\n",
       "    .dataframe tbody tr th {\n",
       "        vertical-align: top;\n",
       "    }\n",
       "\n",
       "    .dataframe thead th {\n",
       "        text-align: right;\n",
       "    }\n",
       "</style>\n",
       "<table border=\"1\" class=\"dataframe\">\n",
       "  <thead>\n",
       "    <tr style=\"text-align: right;\">\n",
       "      <th></th>\n",
       "      <th>Unnamed: 0</th>\n",
       "      <th>filename</th>\n",
       "      <th>code</th>\n",
       "      <th>label</th>\n",
       "      <th>label_encoded</th>\n",
       "    </tr>\n",
       "  </thead>\n",
       "  <tbody>\n",
       "    <tr>\n",
       "      <th>0</th>\n",
       "      <td>0</td>\n",
       "      <td>36375.sol</td>\n",
       "      <td>pragma solidity ^0.4.15;\\n\\n/*\\n\\n    CJX.io -...</td>\n",
       "      <td>/content/drive/My Drive/SC_Dataset/reentrancy ...</td>\n",
       "      <td>2</td>\n",
       "    </tr>\n",
       "    <tr>\n",
       "      <th>1</th>\n",
       "      <td>1</td>\n",
       "      <td>40298.sol</td>\n",
       "      <td>// &lt;ORACLIZE_API&gt;\\n/*\\nCopyright (c) 2015-2016...</td>\n",
       "      <td>/content/drive/My Drive/SC_Dataset/reentrancy ...</td>\n",
       "      <td>2</td>\n",
       "    </tr>\n",
       "    <tr>\n",
       "      <th>2</th>\n",
       "      <td>2</td>\n",
       "      <td>39858.sol</td>\n",
       "      <td>pragma solidity ^0.4.6;\\n\\n/*\\n    Copyright 2...</td>\n",
       "      <td>/content/drive/My Drive/SC_Dataset/reentrancy ...</td>\n",
       "      <td>2</td>\n",
       "    </tr>\n",
       "    <tr>\n",
       "      <th>3</th>\n",
       "      <td>3</td>\n",
       "      <td>34598.sol</td>\n",
       "      <td>pragma solidity ^0.4.4;\\n\\ncontract Token {\\n\\...</td>\n",
       "      <td>/content/drive/My Drive/SC_Dataset/reentrancy ...</td>\n",
       "      <td>2</td>\n",
       "    </tr>\n",
       "    <tr>\n",
       "      <th>4</th>\n",
       "      <td>4</td>\n",
       "      <td>33490.sol</td>\n",
       "      <td>pragma solidity ^0.4.13;\\n\\ncontract DSAuthori...</td>\n",
       "      <td>/content/drive/My Drive/SC_Dataset/reentrancy ...</td>\n",
       "      <td>2</td>\n",
       "    </tr>\n",
       "    <tr>\n",
       "      <th>...</th>\n",
       "      <td>...</td>\n",
       "      <td>...</td>\n",
       "      <td>...</td>\n",
       "      <td>...</td>\n",
       "      <td>...</td>\n",
       "    </tr>\n",
       "    <tr>\n",
       "      <th>2212</th>\n",
       "      <td>2212</td>\n",
       "      <td>9695.sol</td>\n",
       "      <td>\\ncontract ERC223ReceivingContract {\\n\\n     ...</td>\n",
       "      <td>/content/drive/My Drive/SC_Dataset/timestamp d...</td>\n",
       "      <td>3</td>\n",
       "    </tr>\n",
       "    <tr>\n",
       "      <th>2213</th>\n",
       "      <td>2213</td>\n",
       "      <td>8615.sol</td>\n",
       "      <td>pragma solidity ^0.4.13;\\n\\ncontract ERC20Basi...</td>\n",
       "      <td>/content/drive/My Drive/SC_Dataset/timestamp d...</td>\n",
       "      <td>3</td>\n",
       "    </tr>\n",
       "    <tr>\n",
       "      <th>2214</th>\n",
       "      <td>2214</td>\n",
       "      <td>7877.sol</td>\n",
       "      <td>pragma solidity ^0.4.24;\\npragma experimental ...</td>\n",
       "      <td>/content/drive/My Drive/SC_Dataset/timestamp d...</td>\n",
       "      <td>3</td>\n",
       "    </tr>\n",
       "    <tr>\n",
       "      <th>2215</th>\n",
       "      <td>2215</td>\n",
       "      <td>6604.sol</td>\n",
       "      <td>pragma solidity 0.4.24;\\n\\n \\n\\n \\nlibrary Saf...</td>\n",
       "      <td>/content/drive/My Drive/SC_Dataset/timestamp d...</td>\n",
       "      <td>3</td>\n",
       "    </tr>\n",
       "    <tr>\n",
       "      <th>2216</th>\n",
       "      <td>2216</td>\n",
       "      <td>401.sol</td>\n",
       "      <td>pragma solidity ^0.4.20;\\n\\ncontract EVOLUTION...</td>\n",
       "      <td>/content/drive/My Drive/SC_Dataset/timestamp d...</td>\n",
       "      <td>3</td>\n",
       "    </tr>\n",
       "  </tbody>\n",
       "</table>\n",
       "<p>2217 rows × 5 columns</p>\n",
       "</div>"
      ],
      "text/plain": [
       "      Unnamed: 0   filename  \\\n",
       "0              0  36375.sol   \n",
       "1              1  40298.sol   \n",
       "2              2  39858.sol   \n",
       "3              3  34598.sol   \n",
       "4              4  33490.sol   \n",
       "...          ...        ...   \n",
       "2212        2212   9695.sol   \n",
       "2213        2213   8615.sol   \n",
       "2214        2214   7877.sol   \n",
       "2215        2215   6604.sol   \n",
       "2216        2216    401.sol   \n",
       "\n",
       "                                                   code  \\\n",
       "0     pragma solidity ^0.4.15;\\n\\n/*\\n\\n    CJX.io -...   \n",
       "1     // <ORACLIZE_API>\\n/*\\nCopyright (c) 2015-2016...   \n",
       "2     pragma solidity ^0.4.6;\\n\\n/*\\n    Copyright 2...   \n",
       "3     pragma solidity ^0.4.4;\\n\\ncontract Token {\\n\\...   \n",
       "4     pragma solidity ^0.4.13;\\n\\ncontract DSAuthori...   \n",
       "...                                                 ...   \n",
       "2212   \\ncontract ERC223ReceivingContract {\\n\\n     ...   \n",
       "2213  pragma solidity ^0.4.13;\\n\\ncontract ERC20Basi...   \n",
       "2214  pragma solidity ^0.4.24;\\npragma experimental ...   \n",
       "2215  pragma solidity 0.4.24;\\n\\n \\n\\n \\nlibrary Saf...   \n",
       "2216  pragma solidity ^0.4.20;\\n\\ncontract EVOLUTION...   \n",
       "\n",
       "                                                  label  label_encoded  \n",
       "0     /content/drive/My Drive/SC_Dataset/reentrancy ...              2  \n",
       "1     /content/drive/My Drive/SC_Dataset/reentrancy ...              2  \n",
       "2     /content/drive/My Drive/SC_Dataset/reentrancy ...              2  \n",
       "3     /content/drive/My Drive/SC_Dataset/reentrancy ...              2  \n",
       "4     /content/drive/My Drive/SC_Dataset/reentrancy ...              2  \n",
       "...                                                 ...            ...  \n",
       "2212  /content/drive/My Drive/SC_Dataset/timestamp d...              3  \n",
       "2213  /content/drive/My Drive/SC_Dataset/timestamp d...              3  \n",
       "2214  /content/drive/My Drive/SC_Dataset/timestamp d...              3  \n",
       "2215  /content/drive/My Drive/SC_Dataset/timestamp d...              3  \n",
       "2216  /content/drive/My Drive/SC_Dataset/timestamp d...              3  \n",
       "\n",
       "[2217 rows x 5 columns]"
      ]
     },
     "execution_count": 4,
     "metadata": {},
     "output_type": "execute_result"
    }
   ],
   "source": [
    "import pandas as pd\n",
    "import numpy as np\n",
    "data=pd.read_csv('/kaggle/input/smart-contract-vulnerability-datset/SC_4label.csv')\n",
    "data"
   ]
  },
  {
   "cell_type": "markdown",
   "id": "2f1bb6a5",
   "metadata": {
    "papermill": {
     "duration": 0.014756,
     "end_time": "2024-05-20T12:49:42.844211",
     "exception": false,
     "start_time": "2024-05-20T12:49:42.829455",
     "status": "completed"
    },
    "tags": []
   },
   "source": [
    "# Label distribution"
   ]
  },
  {
   "cell_type": "code",
   "execution_count": 5,
   "id": "e2f67c88",
   "metadata": {
    "execution": {
     "iopub.execute_input": "2024-05-20T12:49:42.871589Z",
     "iopub.status.busy": "2024-05-20T12:49:42.871223Z",
     "iopub.status.idle": "2024-05-20T12:49:42.885116Z",
     "shell.execute_reply": "2024-05-20T12:49:42.884328Z"
    },
    "papermill": {
     "duration": 0.029896,
     "end_time": "2024-05-20T12:49:42.887030",
     "exception": false,
     "start_time": "2024-05-20T12:49:42.857134",
     "status": "completed"
    },
    "tags": []
   },
   "outputs": [
    {
     "data": {
      "text/plain": [
       "label_encoded\n",
       "2    1218\n",
       "1     590\n",
       "3     312\n",
       "0      97\n",
       "Name: count, dtype: int64"
      ]
     },
     "execution_count": 5,
     "metadata": {},
     "output_type": "execute_result"
    }
   ],
   "source": [
    "data['label_encoded'].value_counts()"
   ]
  },
  {
   "cell_type": "code",
   "execution_count": 6,
   "id": "66a77aeb",
   "metadata": {
    "execution": {
     "iopub.execute_input": "2024-05-20T12:49:42.914397Z",
     "iopub.status.busy": "2024-05-20T12:49:42.914090Z",
     "iopub.status.idle": "2024-05-20T12:49:43.223389Z",
     "shell.execute_reply": "2024-05-20T12:49:43.222454Z"
    },
    "papermill": {
     "duration": 0.325264,
     "end_time": "2024-05-20T12:49:43.225364",
     "exception": false,
     "start_time": "2024-05-20T12:49:42.900100",
     "status": "completed"
    },
    "tags": []
   },
   "outputs": [
    {
     "data": {
      "text/plain": [
       "Text(0.5, 1.0, 'Distribution of vulnerabilities')"
      ]
     },
     "execution_count": 6,
     "metadata": {},
     "output_type": "execute_result"
    },
    {
     "data": {
      "image/png": "[encoded data removed]",
      "text/plain": [
       "<Figure size 800x500 with 1 Axes>"
      ]
     },
     "metadata": {},
     "output_type": "display_data"
    }
   ],
   "source": [
    "plt.figure(figsize = (8,5))\n",
    "sns.countplot(x = data['label_encoded'], palette = 'Set1', alpha = 0.8)\n",
    "plt.title('Distribution of vulnerabilities')"
   ]
  },
  {
   "cell_type": "markdown",
   "id": "778b0664",
   "metadata": {
    "papermill": {
     "duration": 0.013614,
     "end_time": "2024-05-20T12:49:43.252941",
     "exception": false,
     "start_time": "2024-05-20T12:49:43.239327",
     "status": "completed"
    },
    "tags": []
   },
   "source": [
    "# Preprocessing dataset"
   ]
  },
  {
   "cell_type": "code",
   "execution_count": 7,
   "id": "7c823534",
   "metadata": {
    "execution": {
     "iopub.execute_input": "2024-05-20T12:49:43.282304Z",
     "iopub.status.busy": "2024-05-20T12:49:43.281927Z",
     "iopub.status.idle": "2024-05-20T12:49:43.286365Z",
     "shell.execute_reply": "2024-05-20T12:49:43.285545Z"
    },
    "papermill": {
     "duration": 0.021429,
     "end_time": "2024-05-20T12:49:43.288197",
     "exception": false,
     "start_time": "2024-05-20T12:49:43.266768",
     "status": "completed"
    },
    "tags": []
   },
   "outputs": [],
   "source": [
    "X = data['code']\n",
    "y = data['label_encoded']"
   ]
  },
  {
   "cell_type": "code",
   "execution_count": 8,
   "id": "8a80219f",
   "metadata": {
    "execution": {
     "iopub.execute_input": "2024-05-20T12:49:43.359051Z",
     "iopub.status.busy": "2024-05-20T12:49:43.358718Z",
     "iopub.status.idle": "2024-05-20T12:49:43.368419Z",
     "shell.execute_reply": "2024-05-20T12:49:43.367498Z"
    },
    "papermill": {
     "duration": 0.026667,
     "end_time": "2024-05-20T12:49:43.370310",
     "exception": false,
     "start_time": "2024-05-20T12:49:43.343643",
     "status": "completed"
    },
    "tags": []
   },
   "outputs": [],
   "source": [
    "solidity_stopwords = [\n",
    "    \"pragma\", \"interface\", \"contract\", \"function\", \"event\", \"modifier\", \"library\", \"using\",\n",
    "    \"string\", \"uint8\", \"uint256\", \"address\", \"mapping\", \"bool\", \"require\", \"return\", \"memory\",\n",
    "    \"storage\", \"public\", \"internal\", \"view\", \"returns\", \"constant\", \"constructor\",\n",
    "    \"_owner\", \"_balances\", \"_allowances\", \"_founder\", \"_marketing\", \"_who\", \"_burntAmount\",\n",
    "    \"_from\", \"_to\", \"_value\", \"_timestamp\", \"_bool\", \"msg.sender\", \"totalSupply\",\n",
    "    \"balanceOf\", \"transfer\", \"allowance\", \"approve\", \"transferFrom\", \"add\", \"sub\", \"mul\", \"div\",\n",
    "    \"mod\", \"changeFounder\", \"setMinter\", \"setFurnace\", \"freezeAccount\",\"solidity\",\"bytes32\"\n",
    "]\n",
    "def clean_solidity_code(solidity_code):\n",
    "    # Remove comments (both single-line and multi-line)\n",
    "    cleaned_code = re.sub(r'//.*?$', '', solidity_code, flags=re.MULTILINE)\n",
    "    cleaned_code = re.sub(r'/\\*.*?\\*/', '', cleaned_code, flags=re.DOTALL)\n",
    "\n",
    "    # Remove special characters and punctuation\n",
    "    cleaned_code = re.sub(r'[^a-zA-Z0-9\\s]', '', cleaned_code)\n",
    "\n",
    "    # Remove extra whitespace and blank lines, and convert to lowercase\n",
    "    cleaned_code = '\\n'.join(line.strip().lower() for line in cleaned_code.splitlines() if line.strip())\n",
    "\n",
    "    # Remove common English stop words\n",
    "    stop_words = set(stopwords.words('english'))\n",
    "    tokens = [word for word in cleaned_code.split() if word not in stop_words]\n",
    "    tokens = [token for token in tokens if token not in solidity_stopwords]\n",
    "    cleaned_code = ' '.join(tokens)\n",
    "\n",
    "    return tokens"
   ]
  },
  {
   "cell_type": "code",
   "execution_count": 9,
   "id": "03a88771",
   "metadata": {
    "execution": {
     "iopub.execute_input": "2024-05-20T12:49:43.399084Z",
     "iopub.status.busy": "2024-05-20T12:49:43.398386Z",
     "iopub.status.idle": "2024-05-20T12:49:46.354933Z",
     "shell.execute_reply": "2024-05-20T12:49:46.353902Z"
    },
    "papermill": {
     "duration": 2.973346,
     "end_time": "2024-05-20T12:49:46.357241",
     "exception": false,
     "start_time": "2024-05-20T12:49:43.383895",
     "status": "completed"
    },
    "tags": []
   },
   "outputs": [],
   "source": [
    "X_cleaned = X.apply(clean_solidity_code)"
   ]
  },
  {
   "cell_type": "code",
   "execution_count": 10,
   "id": "2dd7790c",
   "metadata": {
    "execution": {
     "iopub.execute_input": "2024-05-20T12:49:46.387233Z",
     "iopub.status.busy": "2024-05-20T12:49:46.386946Z",
     "iopub.status.idle": "2024-05-20T12:49:46.428537Z",
     "shell.execute_reply": "2024-05-20T12:49:46.427589Z"
    },
    "papermill": {
     "duration": 0.05907,
     "end_time": "2024-05-20T12:49:46.430821",
     "exception": false,
     "start_time": "2024-05-20T12:49:46.371751",
     "status": "completed"
    },
    "tags": []
   },
   "outputs": [],
   "source": [
    "# Join the tokenized words back into sentences\n",
    "X_cleaned_sentences = [' '.join(doc) for doc in X_cleaned]"
   ]
  },
  {
   "cell_type": "code",
   "execution_count": 11,
   "id": "a0824620",
   "metadata": {
    "execution": {
     "iopub.execute_input": "2024-05-20T12:49:46.459858Z",
     "iopub.status.busy": "2024-05-20T12:49:46.459542Z",
     "iopub.status.idle": "2024-05-20T12:49:46.698897Z",
     "shell.execute_reply": "2024-05-20T12:49:46.697841Z"
    },
    "papermill": {
     "duration": 0.256139,
     "end_time": "2024-05-20T12:49:46.701030",
     "exception": false,
     "start_time": "2024-05-20T12:49:46.444891",
     "status": "completed"
    },
    "tags": []
   },
   "outputs": [],
   "source": [
    "X_cleaned_sentences=np.array(X_cleaned_sentences)"
   ]
  },
  {
   "cell_type": "code",
   "execution_count": 12,
   "id": "7cada825",
   "metadata": {
    "execution": {
     "iopub.execute_input": "2024-05-20T12:49:46.730567Z",
     "iopub.status.busy": "2024-05-20T12:49:46.730240Z",
     "iopub.status.idle": "2024-05-20T12:49:46.736333Z",
     "shell.execute_reply": "2024-05-20T12:49:46.735485Z"
    },
    "papermill": {
     "duration": 0.023098,
     "end_time": "2024-05-20T12:49:46.738389",
     "exception": false,
     "start_time": "2024-05-20T12:49:46.715291",
     "status": "completed"
    },
    "tags": []
   },
   "outputs": [
    {
     "data": {
      "text/plain": [
       "'oraclizei cbaddress queryuint timestamp datasource arg id querywithgaslimituint timestamp datasource arg uint gaslimit id query2uint timestamp datasource arg1 arg2 id query2withgaslimituint timestamp datasource arg1 arg2 uint gaslimit id getpricestring datasource uint dsprice getpricestring datasource uint gaslimit uint dsprice usecouponstring coupon setprooftypebyte prooftype setcustomgaspriceuint gasprice oraclizeaddrresolveri getaddress addr usingoraclize uint day 606024 uint week 6060247 uint month 60602430 byte prooftypenone 0x00 byte prooftypetlsnotary 0x10 byte proofstorageipfs 0x01 networkidauto 0 networkidmainnet 1 networkidtestnet 2 networkidmorden 2 networkidconsensys 161 oraclizeaddrresolveri oar oraclizei oraclize oraclizeapi oraclizeaddr oargetaddress oraclizeaddr 0 oraclizesetnetworknetworkidauto oraclizeaddr oargetaddress oraclize oraclizeioraclizeaddr couponstring code oraclize oraclizeioargetaddress oraclizeusecouponcode oraclizesetnetworkuint8 networkid returnsbool getcodesize0x1d3b2638a7cc9f2cb3d298a3da7a90b67e5506ed0 oar oraclizeaddrresolveri0x1d3b2638a7cc9f2cb3d298a3da7a90b67e5506ed true getcodesize0x9efbea6358bed926b293d2ce63a730d6d98d43dd0 oar oraclizeaddrresolveri0x9efbea6358bed926b293d2ce63a730d6d98d43dd true getcodesize0x20e12a1f859b3feae5fb2a0a32c18f5a65555bbf0 oar oraclizeaddrresolveri0x20e12a1f859b3feae5fb2a0a32c18f5a65555bbf true false oraclizequerystring datasource arg oraclizeapi id uint price oraclizegetpricedatasource price 1 ether txgasprice200000 0 oraclizequeryvalueprice0 datasource arg oraclizequeryuint timestamp datasource arg oraclizeapi id uint price oraclizegetpricedatasource price 1 ether txgasprice200000 0 oraclizequeryvaluepricetimestamp datasource arg oraclizequeryuint timestamp datasource arg uint gaslimit oraclizeapi id uint price oraclizegetpricedatasource gaslimit price 1 ether txgaspricegaslimit 0 oraclizequerywithgaslimitvaluepricetimestamp datasource arg gaslimit oraclizequerystring datasource arg uint gaslimit oraclizeapi id uint price oraclizegetpricedatasource gaslimit price 1 ether txgaspricegaslimit 0 oraclizequerywithgaslimitvalueprice0 datasource arg gaslimit oraclizequerystring datasource arg1 arg2 oraclizeapi id uint price oraclizegetpricedatasource price 1 ether txgasprice200000 0 oraclizequery2valueprice0 datasource arg1 arg2 oraclizequeryuint timestamp datasource arg1 arg2 oraclizeapi id uint price oraclizegetpricedatasource price 1 ether txgasprice200000 0 oraclizequery2valuepricetimestamp datasource arg1 arg2 oraclizequeryuint timestamp datasource arg1 arg2 uint gaslimit oraclizeapi id uint price oraclizegetpricedatasource gaslimit price 1 ether txgaspricegaslimit 0 oraclizequery2withgaslimitvaluepricetimestamp datasource arg1 arg2 gaslimit oraclizequerystring datasource arg1 arg2 uint gaslimit oraclizeapi id uint price oraclizegetpricedatasource gaslimit price 1 ether txgaspricegaslimit 0 oraclizequery2withgaslimitvalueprice0 datasource arg1 arg2 gaslimit oraclizecbaddress oraclizeapi oraclizecbaddress oraclizesetproofbyte proofp oraclizeapi oraclizesetprooftypeproofp oraclizesetcustomgaspriceuint gasprice oraclizeapi oraclizesetcustomgaspricegasprice getcodesizeaddress addr returnsuint size assembly size extcodesizeaddr parseaddrstring bytes tmp bytesa uint160 iaddr 0 uint160 b1 uint160 b2 uint i2 i2220 i2 iaddr 256 b1 uint160tmpi b2 uint160tmpi1 b1 97b1 102 b1 87 else b1 48b1 57 b1 48 b2 97b2 102 b2 87 else b2 48b2 57 b2 48 iaddr b116b2 addressiaddr strcomparestring b int bytes bytesa bytes b bytesb uint minlength alength blength minlength minlength blength uint 0 minlength ai bi 1 else ai bi 1 alength blength 1 else alength blength 1 else 0 indexofstring haystack needle int bytes h byteshaystack bytes n bytesneedle ifhlength 1 nlength 1 nlength hlength 1 else ifhlength 2128 1 1 else uint subindex 0 uint 0 hlength hi n0 subindex 1 whilesubindex nlength subindex hlength hi subindex nsubindex subindex ifsubindex nlength inti 1 strconcatstring b c e bytes ba bytesa bytes bb bytesb bytes bc bytesc bytes bd bytesd bytes bytese abcde new stringbalength bblength bclength bdlength belength bytes babcde bytesabcde uint k 0 uint 0 balength babcdek bai 0 bblength babcdek bbi 0 bclength babcdek bci 0 bdlength babcdek bdi 0 belength babcdek bei stringbabcde strconcatstring b c strconcata b c strconcatstring b c strconcata b c strconcatstring b strconcata b parseintstring uint parseinta 0 parseintstring uint b uint bytes bresult bytesa uint mint 0 decimals false uint i0 ibresultlength bresulti 48bresulti 57 decimals b 0 break else b mint 10 mint uintbresulti 48 else bresulti 46 decimals true b 0 mint 10b mint dice usingoraclize uint pwin 5000 uint edge 200 uint maxwin 100 uint minbet 1 finney uint maxinvestors 5 uint houseedge 50 uint divestfee 50 uint emergencywithdrawalratio 90 uint safegas 25000 uint oraclizegaslimit 125000 uint invalidbetmarker 99999 uint emergencytimeout 7 days struct investor investoraddress uint amountinvested votedforemergencywithdrawal struct bet playeraddress uint amountbetted uint numberrolled struct withdrawalproposal toaddress uint attime mappingaddress uint investorids mappinguint investor investors uint numinvestors 0 uint invested 0 owner houseaddress isstopped withdrawalproposal proposedwithdrawal bet bets betskeys uint amountwagered 0 uint investorsprofit 0 uint investorsloses 0 profitdistributed betwonaddress playeraddress uint numberrolled uint amountwon betlostaddress playeraddress uint numberrolled emergencywithdrawalproposed emergencywithdrawalfailedaddress withdrawaladdress emergencywithdrawalsucceededaddress withdrawaladdress uint amountwithdrawn failedsendaddress receiver uint amount valueistoobig diceuint pwininitial uint edgeinitial uint maxwininitial uint minbetinitial uint maxinvestorsinitial uint houseedgeinitial uint divestfeeinitial uint emergencywithdrawalratioinitial oraclizesetproofprooftypetlsnotary proofstorageipfs pwin pwininitial edge edgeinitial maxwin maxwininitial minbet minbetinitial maxinvestors maxinvestorsinitial houseedge houseedgeinitial divestfee divestfeeinitial emergencywithdrawalratio emergencywithdrawalratioinitial owner msgsender houseaddress msgsender onlyifnotstopped isstopped throw onlyifstopped isstopped throw onlyinvestors investoridsmsgsender 0 throw onlynotinvestors investoridsmsgsender 0 throw onlyowner owner msgsender throw onlyoraclize msgsender oraclizecbaddress throw onlymorethanmininvestment msgvalue getmininvestment throw onlymorethanzero msgvalue 0 throw onlyifbetsizeisstillcorrectbytes32 myid bet thisbet betsmyid thisbetamountbetted 10000 edge pwin pwin maxwin getbankroll 10000 else betsmyidnumberrolled invalidbetmarker safesendthisbetplayeraddress thisbetamountbetted onlyifvalidrollbytes32 myid result bet thisbet betsmyid uint numberrolled parseintresult numberrolled 1 numberrolled 10000 thisbetnumberrolled 0 betsmyidnumberrolled invalidbetmarker safesendthisbetplayeraddress thisbetamountbetted onlyifinvestorbalanceispositiveaddress currentinvestor getbalancecurrentinvestor 0 onlywinningbetsuint numberrolled numberrolled 1 pwin onlylosingbetsuint numberrolled numberrolled 1 pwin onlyafterproposed proposedwithdrawaltoaddress 0 throw rejectvalue msgvalue 0 throw onlyifprofitnotdistributed profitdistributed onlyifvalidgasuint newgaslimit newgaslimit 25000 throw onlyifnotprocessedbytes32 myid bet thisbet betsmyid thisbetnumberrolled 0 throw onlyifemergencytimeouthaspassed proposedwithdrawalattime emergencytimeout throw getbankroll returnsuint invested investorsprofit investorsloses getmininvestment returnsuint numinvestors maxinvestors uint investorid searchsmallestinvestor getbalanceinvestorsinvestoridinvestoraddress else 0 getstatus returnsuint uint uint uint uint uint uint uint uint uint bankroll getbankroll uint mininvestment getmininvestment bankroll pwin edge maxwin minbet amountwagered investorsprofit investorsloses mininvestment betskeyslength getbetuint id returnsaddress uint uint id betskeyslength betkey betskeysid betsbetkeyplayeraddress betsbetkeyamountbetted betsbetkeynumberrolled numbets returnsuint betskeyslength getminbetamount returnsuint uint oraclizefee oraclizeioargetaddressgetpriceurl oraclizegaslimit safegas oraclizefee minbet getmaxbetamount returnsuint uint oraclizefee oraclizeioargetaddressgetpriceurl oraclizegaslimit safegas uint betvalue maxwin getbankroll pwin 10000 10000 edge pwin betvalue oraclizefee getlosesshareaddress currentinvestor uint investorsinvestoridscurrentinvestoramountinvested investorsloses invested getprofitshareaddress currentinvestor uint investorsinvestoridscurrentinvestoramountinvested investorsprofit invested getbalanceaddress currentinvestor uint investorsinvestoridscurrentinvestoramountinvested getprofitsharecurrentinvestor getlosessharecurrentinvestor searchsmallestinvestor returnsuint uint investorid 1 uint 1 numinvestors getbalanceinvestorsiinvestoraddress getbalanceinvestorsinvestoridinvestoraddress investorid investorid safesendaddress addr uint value private thisbalance value valueistoobig addrcallgassafegasvaluevalue failedsendaddr value addr houseaddress houseaddresscallgassafegasvaluevalue failedsendhouseaddress value addinvestoratiduint id private investoridsmsgsender id investorsidinvestoraddress msgsender investorsidamountinvested msgvalue invested msgvalue profitdistribution private onlyifprofitnotdistributed uint copyinvested uint 1 numinvestors currentinvestor investorsiinvestoraddress uint profitofinvestor getprofitsharecurrentinvestor uint losesofinvestor getlosessharecurrentinvestor investorsiamountinvested profitofinvestor losesofinvestor copyinvested investorsiamountinvested delete investorsprofit delete investorsloses invested copyinvested profitdistributed true bet bet onlyifnotstopped onlymorethanzero uint oraclizefee oraclizeioargetaddressgetpriceurl oraclizegaslimit safegas uint betvalue msgvalue oraclizefee betvalue 10000 edge pwin pwin maxwin getbankroll 10000 betvalue minbet myid oraclizequeryurl jsonhttps betsmyid betmsgsender betvalue 0 betskeyspushmyid else throw callback myid result bytes proof onlyoraclize onlyifnotprocessedmyid onlyifvalidrollmyid result onlyifbetsizeisstillcorrectmyid bet thisbet betsmyid uint numberrolled parseintresult betsmyidnumberrolled numberrolled iswinningbetthisbet numberrolled islosingbetthisbet numberrolled amountwagered thisbetamountbetted delete profitdistributed iswinningbetbet thisbet uint numberrolled private onlywinningbetsnumberrolled uint winamount thisbetamountbetted 10000 edge pwin betwonthisbetplayeraddress numberrolled winamount safesendthisbetplayeraddress winamount investorsloses winamount thisbetamountbetted islosingbetbet thisbet uint numberrolled private onlylosingbetsnumberrolled betlostthisbetplayeraddress numberrolled safesendthisbetplayeraddress 1 investorsprofit thisbetamountbetted 110000 houseedge10000 uint houseprofit thisbetamountbetted 1houseedge10000 safesendhouseaddress houseprofit increaseinvestment onlyifnotstopped onlymorethanzero onlyinvestors profitdistribution investorsinvestoridsmsgsenderamountinvested msgvalue invested msgvalue newinvestor onlyifnotstopped onlymorethanzero onlynotinvestors onlymorethanmininvestment profitdistribution numinvestors maxinvestors uint smallestinvestorid searchsmallestinvestor divestinvestorssmallestinvestoridinvestoraddress numinvestors addinvestoratidnuminvestors divest onlyinvestors rejectvalue divestmsgsender divestaddress currentinvestor private onlyifinvestorbalanceispositivecurrentinvestor profitdistribution uint currentid investoridscurrentinvestor uint amounttoreturn getbalancecurrentinvestor invested investorscurrentidamountinvested uint divestfeeamount amounttoreturndivestfee10000 amounttoreturn divestfeeamount delete investorscurrentid delete investoridscurrentinvestor currentid numinvestors investor lastinvestor investorsnuminvestors investoridslastinvestorinvestoraddress currentid investorscurrentid lastinvestor delete investorsnuminvestors numinvestors safesendcurrentinvestor amounttoreturn safesendhouseaddress divestfeeamount forcedivestofallinvestors onlyowner rejectvalue uint copynuminvestors numinvestors uint 1 copynuminvestors divestinvestors1investoraddress forcedivestofoneinvestoraddress currentinvestor onlyowner onlyifstopped rejectvalue divestcurrentinvestor delete proposedwithdrawal stopcontract onlyowner rejectvalue isstopped true resumecontract onlyowner rejectvalue isstopped false changehouseaddressaddress newhouse onlyowner rejectvalue houseaddress newhouse changeowneraddressaddress newowner onlyowner rejectvalue owner newowner changegaslimitofsafesenduint newgaslimit onlyowner onlyifvalidgasnewgaslimit rejectvalue safegas newgaslimit voteemergencywithdrawalbool vote onlyinvestors onlyafterproposed onlyifstopped rejectvalue investorsinvestoridsmsgsendervotedforemergencywithdrawal vote proposeemergencywithdrawaladdress withdrawaladdress onlyifstopped onlyowner rejectvalue uint 1 numinvestors delete investorsivotedforemergencywithdrawal proposedwithdrawal withdrawalproposalwithdrawaladdress emergencywithdrawalproposed executeemergencywithdrawal onlyowner onlyafterproposed onlyifstopped onlyifemergencytimeouthaspassed rejectvalue uint numofvotesinfavour uint amounttowithdrawal thisbalance uint 1 numinvestors investorsivotedforemergencywithdrawal true numofvotesinfavour delete investorsivotedforemergencywithdrawal numofvotesinfavour emergencywithdrawalratio numinvestors 100 proposedwithdrawaltoaddresssendthisbalance emergencywithdrawalfailedproposedwithdrawaltoaddress else emergencywithdrawalsucceededproposedwithdrawaltoaddress amounttowithdrawal else throw'"
      ]
     },
     "execution_count": 12,
     "metadata": {},
     "output_type": "execute_result"
    }
   ],
   "source": [
    "X_cleaned_sentences[1]"
   ]
  },
  {
   "cell_type": "code",
   "execution_count": 13,
   "id": "082d7ffe",
   "metadata": {
    "execution": {
     "iopub.execute_input": "2024-05-20T12:49:46.768187Z",
     "iopub.status.busy": "2024-05-20T12:49:46.767942Z",
     "iopub.status.idle": "2024-05-20T12:49:47.039719Z",
     "shell.execute_reply": "2024-05-20T12:49:47.038908Z"
    },
    "papermill": {
     "duration": 0.289202,
     "end_time": "2024-05-20T12:49:47.042098",
     "exception": false,
     "start_time": "2024-05-20T12:49:46.752896",
     "status": "completed"
    },
    "tags": []
   },
   "outputs": [],
   "source": [
    "#Data splitting\n",
    "X_train, X_test, y_train, y_test = train_test_split(X_cleaned_sentences, y,\n",
    "                                                    test_size=0.1,shuffle=True,random_state=42,stratify=y)"
   ]
  },
  {
   "cell_type": "markdown",
   "id": "131611a3",
   "metadata": {
    "papermill": {
     "duration": 0.013927,
     "end_time": "2024-05-20T12:49:47.071219",
     "exception": false,
     "start_time": "2024-05-20T12:49:47.057292",
     "status": "completed"
    },
    "tags": []
   },
   "source": [
    "# Tokenize and padding"
   ]
  },
  {
   "cell_type": "code",
   "execution_count": 14,
   "id": "ca45112d",
   "metadata": {
    "execution": {
     "iopub.execute_input": "2024-05-20T12:49:47.100761Z",
     "iopub.status.busy": "2024-05-20T12:49:47.100465Z",
     "iopub.status.idle": "2024-05-20T12:49:47.112331Z",
     "shell.execute_reply": "2024-05-20T12:49:47.111489Z"
    },
    "papermill": {
     "duration": 0.029048,
     "end_time": "2024-05-20T12:49:47.114437",
     "exception": false,
     "start_time": "2024-05-20T12:49:47.085389",
     "status": "completed"
    },
    "tags": []
   },
   "outputs": [
    {
     "data": {
      "text/plain": [
       "array([[0., 0., 1., 0.],\n",
       "       [0., 1., 0., 0.],\n",
       "       [0., 0., 1., 0.],\n",
       "       ...,\n",
       "       [1., 0., 0., 0.],\n",
       "       [0., 0., 0., 1.],\n",
       "       [0., 0., 1., 0.]], dtype=float32)"
      ]
     },
     "execution_count": 14,
     "metadata": {},
     "output_type": "execute_result"
    }
   ],
   "source": [
    "# one hot encoding label\n",
    "y_train_encoded = to_categorical(y_train, 4)\n",
    "y_test_encoded = to_categorical(y_test, 4)\n",
    "y_train_encoded"
   ]
  },
  {
   "cell_type": "code",
   "execution_count": 15,
   "id": "5b68140b",
   "metadata": {
    "execution": {
     "iopub.execute_input": "2024-05-20T12:49:47.144702Z",
     "iopub.status.busy": "2024-05-20T12:49:47.144419Z",
     "iopub.status.idle": "2024-05-20T12:49:48.585150Z",
     "shell.execute_reply": "2024-05-20T12:49:48.584018Z"
    },
    "papermill": {
     "duration": 1.458227,
     "end_time": "2024-05-20T12:49:48.587575",
     "exception": false,
     "start_time": "2024-05-20T12:49:47.129348",
     "status": "completed"
    },
    "tags": []
   },
   "outputs": [],
   "source": [
    "# Tokenize the text data\n",
    "tokenizer = Tokenizer()\n",
    "tokenizer.fit_on_texts(X_train)\n",
    "X_train_sequences = tokenizer.texts_to_sequences(X_train)\n",
    "X_test_sequences = tokenizer.texts_to_sequences(X_test)"
   ]
  },
  {
   "cell_type": "code",
   "execution_count": 16,
   "id": "366e84ba",
   "metadata": {
    "execution": {
     "iopub.execute_input": "2024-05-20T12:49:48.618443Z",
     "iopub.status.busy": "2024-05-20T12:49:48.617909Z",
     "iopub.status.idle": "2024-05-20T12:49:48.650360Z",
     "shell.execute_reply": "2024-05-20T12:49:48.649428Z"
    },
    "papermill": {
     "duration": 0.050123,
     "end_time": "2024-05-20T12:49:48.652653",
     "exception": false,
     "start_time": "2024-05-20T12:49:48.602530",
     "status": "completed"
    },
    "tags": []
   },
   "outputs": [],
   "source": [
    "# Padding the sequences\n",
    "X_train_padded = pad_sequences(X_train_sequences, maxlen=128, padding='post', truncating='post')\n",
    "X_test_padded = pad_sequences(X_test_sequences, maxlen=128, padding='post', truncating='post')\n"
   ]
  },
  {
   "cell_type": "code",
   "execution_count": 17,
   "id": "83ec1152",
   "metadata": {
    "execution": {
     "iopub.execute_input": "2024-05-20T12:49:48.684178Z",
     "iopub.status.busy": "2024-05-20T12:49:48.683873Z",
     "iopub.status.idle": "2024-05-20T12:49:48.688865Z",
     "shell.execute_reply": "2024-05-20T12:49:48.687818Z"
    },
    "papermill": {
     "duration": 0.023048,
     "end_time": "2024-05-20T12:49:48.690837",
     "exception": false,
     "start_time": "2024-05-20T12:49:48.667789",
     "status": "completed"
    },
    "tags": []
   },
   "outputs": [
    {
     "name": "stdout",
     "output_type": "stream",
     "text": [
      "Shape of training tensor:  (1995, 128)\n",
      "Shape of testing tensor:  (222, 128)\n"
     ]
    }
   ],
   "source": [
    "print('Shape of training tensor: ', X_train_padded.shape)\n",
    "print('Shape of testing tensor: ', X_test_padded.shape)"
   ]
  },
  {
   "cell_type": "markdown",
   "id": "7e226230",
   "metadata": {
    "papermill": {
     "duration": 0.015107,
     "end_time": "2024-05-20T12:49:48.721198",
     "exception": false,
     "start_time": "2024-05-20T12:49:48.706091",
     "status": "completed"
    },
    "tags": []
   },
   "source": [
    "# Optional: Oversampling dataset using SMOTE"
   ]
  },
  {
   "cell_type": "code",
   "execution_count": 18,
   "id": "4a18f3a0",
   "metadata": {
    "execution": {
     "iopub.execute_input": "2024-05-20T12:49:48.752945Z",
     "iopub.status.busy": "2024-05-20T12:49:48.752653Z",
     "iopub.status.idle": "2024-05-20T12:49:49.045667Z",
     "shell.execute_reply": "2024-05-20T12:49:49.044853Z"
    },
    "papermill": {
     "duration": 0.311567,
     "end_time": "2024-05-20T12:49:49.047984",
     "exception": false,
     "start_time": "2024-05-20T12:49:48.736417",
     "status": "completed"
    },
    "tags": []
   },
   "outputs": [],
   "source": [
    "#Smote oversampling\n",
    "from imblearn.over_sampling import SMOTE\n",
    "from imblearn.over_sampling import BorderlineSMOTE\n",
    "import math"
   ]
  },
  {
   "cell_type": "code",
   "execution_count": 19,
   "id": "72a988f6",
   "metadata": {
    "execution": {
     "iopub.execute_input": "2024-05-20T12:49:49.079259Z",
     "iopub.status.busy": "2024-05-20T12:49:49.078723Z",
     "iopub.status.idle": "2024-05-20T12:49:49.085147Z",
     "shell.execute_reply": "2024-05-20T12:49:49.084297Z"
    },
    "papermill": {
     "duration": 0.024056,
     "end_time": "2024-05-20T12:49:49.087098",
     "exception": false,
     "start_time": "2024-05-20T12:49:49.063042",
     "status": "completed"
    },
    "tags": []
   },
   "outputs": [],
   "source": [
    "def smote(x, y):\n",
    "    k_neighbors = math.ceil(sum(y) * 0.01)\n",
    "      \n",
    "    smote = SMOTE(sampling_strategy=1, \n",
    "                  k_neighbors=k_neighbors)\n",
    "    x, y = smote.fit_resample(x, y)\n",
    "    \n",
    "    return x, y\n",
    "    \n",
    "def bordersmote(x, y):\n",
    "    k_neighbors = math.ceil(sum(y) * 0.01)\n",
    "    m_neighbors = math.ceil(sum(y) * 0.01)\n",
    "    \n",
    "    bordersmote = BorderlineSMOTE(sampling_strategy=1, \n",
    "                                  k_neighbors=k_neighbors, \n",
    "                                  m_neighbors=m_neighbors)\n",
    "    \n",
    "    x, y = bordersmote.fit_resample(x, y)\n",
    "    \n",
    "    return x, y"
   ]
  },
  {
   "cell_type": "code",
   "execution_count": 20,
   "id": "58217246",
   "metadata": {
    "execution": {
     "iopub.execute_input": "2024-05-20T12:49:49.119656Z",
     "iopub.status.busy": "2024-05-20T12:49:49.119380Z",
     "iopub.status.idle": "2024-05-20T12:49:49.139741Z",
     "shell.execute_reply": "2024-05-20T12:49:49.138972Z"
    },
    "papermill": {
     "duration": 0.038784,
     "end_time": "2024-05-20T12:49:49.141741",
     "exception": false,
     "start_time": "2024-05-20T12:49:49.102957",
     "status": "completed"
    },
    "tags": []
   },
   "outputs": [],
   "source": [
    "smote = SMOTE(sampling_strategy='minority', random_state=42)\n",
    "X_train_resampled, y_train_resampled = smote.fit_resample(X_train_padded, y_train_encoded)"
   ]
  },
  {
   "cell_type": "code",
   "execution_count": 21,
   "id": "2e06e307",
   "metadata": {
    "execution": {
     "iopub.execute_input": "2024-05-20T12:49:49.175650Z",
     "iopub.status.busy": "2024-05-20T12:49:49.175382Z",
     "iopub.status.idle": "2024-05-20T12:49:49.181510Z",
     "shell.execute_reply": "2024-05-20T12:49:49.180529Z"
    },
    "papermill": {
     "duration": 0.024778,
     "end_time": "2024-05-20T12:49:49.183668",
     "exception": false,
     "start_time": "2024-05-20T12:49:49.158890",
     "status": "completed"
    },
    "tags": []
   },
   "outputs": [
    {
     "data": {
      "text/plain": [
       "array([[0, 0, 1, 0],\n",
       "       [0, 1, 0, 0],\n",
       "       [0, 0, 1, 0],\n",
       "       ...,\n",
       "       [1, 0, 0, 0],\n",
       "       [1, 0, 0, 0],\n",
       "       [1, 0, 0, 0]])"
      ]
     },
     "execution_count": 21,
     "metadata": {},
     "output_type": "execute_result"
    }
   ],
   "source": [
    "y_train_resampled"
   ]
  },
  {
   "cell_type": "code",
   "execution_count": 22,
   "id": "57ae637b",
   "metadata": {
    "execution": {
     "iopub.execute_input": "2024-05-20T12:49:49.217211Z",
     "iopub.status.busy": "2024-05-20T12:49:49.216945Z",
     "iopub.status.idle": "2024-05-20T12:49:49.221764Z",
     "shell.execute_reply": "2024-05-20T12:49:49.220843Z"
    },
    "papermill": {
     "duration": 0.023122,
     "end_time": "2024-05-20T12:49:49.223869",
     "exception": false,
     "start_time": "2024-05-20T12:49:49.200747",
     "status": "completed"
    },
    "tags": []
   },
   "outputs": [
    {
     "name": "stdout",
     "output_type": "stream",
     "text": [
      "Label Counts: [1096  531 1096  281]\n"
     ]
    }
   ],
   "source": [
    "label_counts = np.sum(y_train_resampled, axis=0)\n",
    "\n",
    "# Display the label counts\n",
    "print(\"Label Counts:\", label_counts)"
   ]
  },
  {
   "cell_type": "code",
   "execution_count": 23,
   "id": "9703277f",
   "metadata": {
    "execution": {
     "iopub.execute_input": "2024-05-20T12:49:49.255284Z",
     "iopub.status.busy": "2024-05-20T12:49:49.254959Z",
     "iopub.status.idle": "2024-05-20T12:49:49.442560Z",
     "shell.execute_reply": "2024-05-20T12:49:49.441464Z"
    },
    "papermill": {
     "duration": 0.205912,
     "end_time": "2024-05-20T12:49:49.444798",
     "exception": false,
     "start_time": "2024-05-20T12:49:49.238886",
     "status": "completed"
    },
    "tags": []
   },
   "outputs": [
    {
     "name": "stdout",
     "output_type": "stream",
     "text": [
      "40222\n"
     ]
    }
   ],
   "source": [
    "#getting the length of the maximum sequence in the dataset\n",
    "max_length = max([len(w) for w in X_train])\n",
    "print(max_length)"
   ]
  },
  {
   "cell_type": "code",
   "execution_count": 24,
   "id": "51ccef12",
   "metadata": {
    "execution": {
     "iopub.execute_input": "2024-05-20T12:49:49.481215Z",
     "iopub.status.busy": "2024-05-20T12:49:49.480878Z",
     "iopub.status.idle": "2024-05-20T12:49:49.485400Z",
     "shell.execute_reply": "2024-05-20T12:49:49.484412Z"
    },
    "papermill": {
     "duration": 0.025075,
     "end_time": "2024-05-20T12:49:49.487482",
     "exception": false,
     "start_time": "2024-05-20T12:49:49.462407",
     "status": "completed"
    },
    "tags": []
   },
   "outputs": [],
   "source": [
    "emb_len=len(tokenizer.index_word)+1"
   ]
  },
  {
   "cell_type": "markdown",
   "id": "4e7d932f",
   "metadata": {
    "papermill": {
     "duration": 0.017388,
     "end_time": "2024-05-20T12:49:49.522253",
     "exception": false,
     "start_time": "2024-05-20T12:49:49.504865",
     "status": "completed"
    },
    "tags": []
   },
   "source": [
    "# Attention based BiLSTM CNN"
   ]
  },
  {
   "cell_type": "code",
   "execution_count": 25,
   "id": "d5d0cab6",
   "metadata": {
    "execution": {
     "iopub.execute_input": "2024-05-20T12:49:49.559111Z",
     "iopub.status.busy": "2024-05-20T12:49:49.558328Z",
     "iopub.status.idle": "2024-05-20T12:49:50.003052Z",
     "shell.execute_reply": "2024-05-20T12:49:50.002076Z"
    },
    "papermill": {
     "duration": 0.46607,
     "end_time": "2024-05-20T12:49:50.005552",
     "exception": false,
     "start_time": "2024-05-20T12:49:49.539482",
     "status": "completed"
    },
    "tags": []
   },
   "outputs": [],
   "source": [
    "# Input layer\n",
    "input_layer = Input(shape=(128,))  # Specify max_len as the maximum sequence length\n",
    "\n",
    "# Embedding layer\n",
    "embedding_layer = Embedding(emb_len, 128)(input_layer)\n",
    "\n",
    "# Bidirectional LSTM layer replaced with Attention layer\n",
    "lstm_layer = Bidirectional(LSTM(128, return_sequences=True, dropout=0.2, recurrent_dropout=0.3))(embedding_layer)\n",
    "attention = Attention()([lstm_layer, lstm_layer])  # Attention layer\n",
    "\n",
    "# 1D Convolutional layer\n",
    "conv1d_layer = Conv1D(64, kernel_size=3, activation='relu')(attention)\n",
    "\n",
    "# GlobalMaxPooling1D layer\n",
    "global_max_pooling_layer = GlobalMaxPooling1D()(conv1d_layer)\n",
    "\n",
    "# Dense layers\n",
    "dense_layer_1 = Dense(128, activation='relu')(global_max_pooling_layer)\n",
    "\n",
    "output_layer = Dense(4, activation='softmax')(dense_layer_1)\n",
    "\n",
    "# Model creation\n",
    "model = Model(inputs=input_layer, outputs=output_layer)"
   ]
  },
  {
   "cell_type": "code",
   "execution_count": 26,
   "id": "b874fad4",
   "metadata": {
    "execution": {
     "iopub.execute_input": "2024-05-20T12:49:50.041846Z",
     "iopub.status.busy": "2024-05-20T12:49:50.040971Z",
     "iopub.status.idle": "2024-05-20T12:49:50.070575Z",
     "shell.execute_reply": "2024-05-20T12:49:50.069671Z"
    },
    "papermill": {
     "duration": 0.055739,
     "end_time": "2024-05-20T12:49:50.078514",
     "exception": false,
     "start_time": "2024-05-20T12:49:50.022775",
     "status": "completed"
    },
    "tags": []
   },
   "outputs": [
    {
     "name": "stdout",
     "output_type": "stream",
     "text": [
      "Model: \"model\"\n",
      "__________________________________________________________________________________________________\n",
      " Layer (type)                Output Shape                 Param #   Connected to                  \n",
      "==================================================================================================\n",
      " input_1 (InputLayer)        [(None, 128)]                0         []                            \n",
      "                                                                                                  \n",
      " embedding (Embedding)       (None, 128, 128)             5820160   ['input_1[0][0]']             \n",
      "                                                                                                  \n",
      " bidirectional (Bidirection  (None, 128, 256)             263168    ['embedding[0][0]']           \n",
      " al)                                                                                              \n",
      "                                                                                                  \n",
      " attention (Attention)       (None, 128, 256)             0         ['bidirectional[0][0]',       \n",
      "                                                                     'bidirectional[0][0]']       \n",
      "                                                                                                  \n",
      " conv1d (Conv1D)             (None, 126, 64)              49216     ['attention[0][0]']           \n",
      "                                                                                                  \n",
      " global_max_pooling1d (Glob  (None, 64)                   0         ['conv1d[0][0]']              \n",
      " alMaxPooling1D)                                                                                  \n",
      "                                                                                                  \n",
      " dense (Dense)               (None, 128)                  8320      ['global_max_pooling1d[0][0]']\n",
      "                                                                                                  \n",
      " dense_1 (Dense)             (None, 4)                    516       ['dense[0][0]']               \n",
      "                                                                                                  \n",
      "==================================================================================================\n",
      "Total params: 6141380 (23.43 MB)\n",
      "Trainable params: 6141380 (23.43 MB)\n",
      "Non-trainable params: 0 (0.00 Byte)\n",
      "__________________________________________________________________________________________________\n"
     ]
    }
   ],
   "source": [
    "model.summary()"
   ]
  },
  {
   "cell_type": "code",
   "execution_count": 27,
   "id": "307a47c7",
   "metadata": {
    "execution": {
     "iopub.execute_input": "2024-05-20T12:49:50.116554Z",
     "iopub.status.busy": "2024-05-20T12:49:50.116269Z",
     "iopub.status.idle": "2024-05-20T12:49:50.460824Z",
     "shell.execute_reply": "2024-05-20T12:49:50.459898Z"
    },
    "papermill": {
     "duration": 0.36619,
     "end_time": "2024-05-20T12:49:50.462968",
     "exception": false,
     "start_time": "2024-05-20T12:49:50.096778",
     "status": "completed"
    },
    "tags": []
   },
   "outputs": [
    {
     "data": {
      "image/png": "[encoded data removed]",
      "text/plain": [
       "<IPython.core.display.Image object>"
      ]
     },
     "execution_count": 27,
     "metadata": {},
     "output_type": "execute_result"
    }
   ],
   "source": [
    "tf.keras.utils.plot_model(model)"
   ]
  },
  {
   "cell_type": "code",
   "execution_count": 28,
   "id": "2e228257",
   "metadata": {
    "execution": {
     "iopub.execute_input": "2024-05-20T12:49:50.500883Z",
     "iopub.status.busy": "2024-05-20T12:49:50.500147Z",
     "iopub.status.idle": "2024-05-20T12:49:50.514827Z",
     "shell.execute_reply": "2024-05-20T12:49:50.513926Z"
    },
    "papermill": {
     "duration": 0.035444,
     "end_time": "2024-05-20T12:49:50.516746",
     "exception": false,
     "start_time": "2024-05-20T12:49:50.481302",
     "status": "completed"
    },
    "tags": []
   },
   "outputs": [],
   "source": [
    "model.compile(optimizer='adam',loss='categorical_crossentropy',metrics=['accuracy'])"
   ]
  },
  {
   "cell_type": "code",
   "execution_count": 29,
   "id": "66c30436",
   "metadata": {
    "execution": {
     "iopub.execute_input": "2024-05-20T12:49:50.554900Z",
     "iopub.status.busy": "2024-05-20T12:49:50.554619Z",
     "iopub.status.idle": "2024-05-20T12:49:50.559347Z",
     "shell.execute_reply": "2024-05-20T12:49:50.558461Z"
    },
    "papermill": {
     "duration": 0.026415,
     "end_time": "2024-05-20T12:49:50.561251",
     "exception": false,
     "start_time": "2024-05-20T12:49:50.534836",
     "status": "completed"
    },
    "tags": []
   },
   "outputs": [],
   "source": [
    "checkpoint_path = 'training/best_model.ckpt'\n",
    "checkpoint_dir = os.path.dirname(checkpoint_path)\n",
    "model_checkpoint_callback = tf.keras.callbacks.ModelCheckpoint(\n",
    "    filepath=checkpoint_path,\n",
    "    monitor='val_accuracy',\n",
    "    mode='max',\n",
    "    save_best_only=True,\n",
    "    verbose=1)"
   ]
  },
  {
   "cell_type": "code",
   "execution_count": 30,
   "id": "3f36e0ca",
   "metadata": {
    "execution": {
     "iopub.execute_input": "2024-05-20T12:49:50.600477Z",
     "iopub.status.busy": "2024-05-20T12:49:50.600182Z",
     "iopub.status.idle": "2024-05-20T12:49:50.604664Z",
     "shell.execute_reply": "2024-05-20T12:49:50.603816Z"
    },
    "papermill": {
     "duration": 0.025859,
     "end_time": "2024-05-20T12:49:50.606453",
     "exception": false,
     "start_time": "2024-05-20T12:49:50.580594",
     "status": "completed"
    },
    "tags": []
   },
   "outputs": [],
   "source": [
    "from keras.callbacks import EarlyStopping\n",
    "from keras.callbacks import ReduceLROnPlateau\n",
    "reduce_lr = ReduceLROnPlateau(monitor='val_loss', factor=0.2, patience=3, min_lr=0.00001)\n",
    "early_stop = EarlyStopping(monitor='val_loss',patience=3,verbose=True)"
   ]
  },
  {
   "cell_type": "code",
   "execution_count": 31,
   "id": "8ed1057f",
   "metadata": {
    "execution": {
     "iopub.execute_input": "2024-05-20T12:49:50.645564Z",
     "iopub.status.busy": "2024-05-20T12:49:50.644608Z",
     "iopub.status.idle": "2024-05-20T12:58:02.108393Z",
     "shell.execute_reply": "2024-05-20T12:58:02.107341Z"
    },
    "papermill": {
     "duration": 491.485541,
     "end_time": "2024-05-20T12:58:02.110442",
     "exception": false,
     "start_time": "2024-05-20T12:49:50.624901",
     "status": "completed"
    },
    "tags": []
   },
   "outputs": [
    {
     "name": "stdout",
     "output_type": "stream",
     "text": [
      "Epoch 1/20\n",
      "63/63 [==============================] - ETA: 0s - loss: 0.8750 - accuracy: 0.6331\n",
      "Epoch 1: val_accuracy improved from -inf to 0.78378, saving model to training/best_model.ckpt\n",
      "63/63 [==============================] - 80s 1s/step - loss: 0.8750 - accuracy: 0.6331 - val_loss: 0.5482 - val_accuracy: 0.7838\n",
      "Epoch 2/20\n",
      "63/63 [==============================] - ETA: 0s - loss: 0.4240 - accuracy: 0.8551\n",
      "Epoch 2: val_accuracy improved from 0.78378 to 0.85586, saving model to training/best_model.ckpt\n",
      "63/63 [==============================] - 67s 1s/step - loss: 0.4240 - accuracy: 0.8551 - val_loss: 0.3963 - val_accuracy: 0.8559\n",
      "Epoch 3/20\n",
      "63/63 [==============================] - ETA: 0s - loss: 0.2580 - accuracy: 0.9188\n",
      "Epoch 3: val_accuracy improved from 0.85586 to 0.90541, saving model to training/best_model.ckpt\n",
      "63/63 [==============================] - 65s 1s/step - loss: 0.2580 - accuracy: 0.9188 - val_loss: 0.2905 - val_accuracy: 0.9054\n",
      "Epoch 4/20\n",
      "63/63 [==============================] - ETA: 0s - loss: 0.1677 - accuracy: 0.9474\n",
      "Epoch 4: val_accuracy did not improve from 0.90541\n",
      "63/63 [==============================] - 56s 888ms/step - loss: 0.1677 - accuracy: 0.9474 - val_loss: 0.3343 - val_accuracy: 0.8874\n",
      "Epoch 5/20\n",
      "63/63 [==============================] - ETA: 0s - loss: 0.1116 - accuracy: 0.9629\n",
      "Epoch 5: val_accuracy did not improve from 0.90541\n",
      "63/63 [==============================] - 54s 862ms/step - loss: 0.1116 - accuracy: 0.9629 - val_loss: 0.2678 - val_accuracy: 0.9009\n",
      "Epoch 6/20\n",
      "63/63 [==============================] - ETA: 0s - loss: 0.0820 - accuracy: 0.9709\n",
      "Epoch 6: val_accuracy improved from 0.90541 to 0.92342, saving model to training/best_model.ckpt\n",
      "63/63 [==============================] - 62s 987ms/step - loss: 0.0820 - accuracy: 0.9709 - val_loss: 0.2718 - val_accuracy: 0.9234\n",
      "Epoch 7/20\n",
      "63/63 [==============================] - ETA: 0s - loss: 0.0667 - accuracy: 0.9769\n",
      "Epoch 7: val_accuracy did not improve from 0.92342\n",
      "63/63 [==============================] - 55s 874ms/step - loss: 0.0667 - accuracy: 0.9769 - val_loss: 0.3075 - val_accuracy: 0.9189\n",
      "Epoch 8/20\n",
      "63/63 [==============================] - ETA: 0s - loss: 0.0682 - accuracy: 0.9744\n",
      "Epoch 8: val_accuracy did not improve from 0.92342\n",
      "63/63 [==============================] - 52s 824ms/step - loss: 0.0682 - accuracy: 0.9744 - val_loss: 0.4294 - val_accuracy: 0.9009\n",
      "Epoch 8: early stopping\n"
     ]
    }
   ],
   "source": [
    "#Trainig the model\n",
    "history = model.fit(X_train_padded,y_train_encoded,\n",
    "                    batch_size=32,\n",
    "                    epochs=20,\n",
    "                    validation_data=(X_test_padded,y_test_encoded),\n",
    "                    callbacks=[model_checkpoint_callback,early_stop])"
   ]
  },
  {
   "cell_type": "code",
   "execution_count": 32,
   "id": "d9a842a0",
   "metadata": {
    "execution": {
     "iopub.execute_input": "2024-05-20T12:58:02.233477Z",
     "iopub.status.busy": "2024-05-20T12:58:02.232620Z",
     "iopub.status.idle": "2024-05-20T12:58:18.460083Z",
     "shell.execute_reply": "2024-05-20T12:58:18.459166Z"
    },
    "papermill": {
     "duration": 16.289782,
     "end_time": "2024-05-20T12:58:18.462314",
     "exception": false,
     "start_time": "2024-05-20T12:58:02.172532",
     "status": "completed"
    },
    "tags": []
   },
   "outputs": [
    {
     "data": {
      "text/plain": [
       "<tensorflow.python.checkpoint.checkpoint.CheckpointLoadStatus at 0x7e186b38d840>"
      ]
     },
     "execution_count": 32,
     "metadata": {},
     "output_type": "execute_result"
    }
   ],
   "source": [
    "#Load best model\n",
    "model.load_weights(checkpoint_path)"
   ]
  },
  {
   "cell_type": "code",
   "execution_count": 33,
   "id": "8cb7b4f4",
   "metadata": {
    "execution": {
     "iopub.execute_input": "2024-05-20T12:58:18.588049Z",
     "iopub.status.busy": "2024-05-20T12:58:18.587731Z",
     "iopub.status.idle": "2024-05-20T12:58:18.931407Z",
     "shell.execute_reply": "2024-05-20T12:58:18.930470Z"
    },
    "papermill": {
     "duration": 0.408772,
     "end_time": "2024-05-20T12:58:18.933386",
     "exception": false,
     "start_time": "2024-05-20T12:58:18.524614",
     "status": "completed"
    },
    "tags": []
   },
   "outputs": [
    {
     "data": {
      "image/png": "[encoded data removed]",
      "text/plain": [
       "<Figure size 800x800 with 1 Axes>"
      ]
     },
     "metadata": {},
     "output_type": "display_data"
    }
   ],
   "source": [
    "def plot_metrics(history, metric):\n",
    "    train_metric = history.history[metric]\n",
    "    val_metric = history.history[f'val_{metric}']\n",
    "    epochs = range(1, len(train_metric)+1)\n",
    "\n",
    "    plt.figure(figsize=(8,8))\n",
    "    plt.plot(epochs,train_metric,label = f'Training {metric}')\n",
    "    plt.plot(epochs,val_metric,label = f'Validation {metric}')\n",
    "    plt.title(f'Training and Validation {metric.capitalize()}')\n",
    "    plt.xlabel('Epoch')\n",
    "    plt.ylabel(metric.capitalize())\n",
    "    plt.legend(['train', 'test'],loc='upper left')\n",
    "    plt.show()\n",
    "#Training and validation loss plot\n",
    "plot_metrics(history, metric='loss')"
   ]
  },
  {
   "cell_type": "code",
   "execution_count": 34,
   "id": "aaddf972",
   "metadata": {
    "execution": {
     "iopub.execute_input": "2024-05-20T12:58:19.057112Z",
     "iopub.status.busy": "2024-05-20T12:58:19.056788Z",
     "iopub.status.idle": "2024-05-20T12:58:19.598656Z",
     "shell.execute_reply": "2024-05-20T12:58:19.597457Z"
    },
    "papermill": {
     "duration": 0.606653,
     "end_time": "2024-05-20T12:58:19.600681",
     "exception": false,
     "start_time": "2024-05-20T12:58:18.994028",
     "status": "completed"
    },
    "tags": []
   },
   "outputs": [
    {
     "name": "stdout",
     "output_type": "stream",
     "text": [
      "7/7 [==============================] - 0s 67ms/step - loss: 0.2718 - accuracy: 0.9234\n",
      "Validation Loss: 0.27183786034584045, Validation Accuracy: 0.9234234094619751\n"
     ]
    }
   ],
   "source": [
    "## Evaluate Model\n",
    "loss, accuracy = model.evaluate(X_test_padded, y_test_encoded)\n",
    "print(f'Validation Loss: {loss}, Validation Accuracy: {accuracy}')"
   ]
  },
  {
   "cell_type": "code",
   "execution_count": 35,
   "id": "8df6117d",
   "metadata": {
    "execution": {
     "iopub.execute_input": "2024-05-20T12:58:19.729136Z",
     "iopub.status.busy": "2024-05-20T12:58:19.728805Z",
     "iopub.status.idle": "2024-05-20T12:58:20.723799Z",
     "shell.execute_reply": "2024-05-20T12:58:20.722947Z"
    },
    "papermill": {
     "duration": 1.063102,
     "end_time": "2024-05-20T12:58:20.725793",
     "exception": false,
     "start_time": "2024-05-20T12:58:19.662691",
     "status": "completed"
    },
    "tags": []
   },
   "outputs": [
    {
     "name": "stdout",
     "output_type": "stream",
     "text": [
      "7/7 [==============================] - 1s 64ms/step\n"
     ]
    }
   ],
   "source": [
    "#prediction\n",
    "y_pred = model.predict(X_test_padded)\n",
    "y_pred_class = y_pred.argmax(axis=1)"
   ]
  },
  {
   "cell_type": "code",
   "execution_count": 36,
   "id": "de83f4bf",
   "metadata": {
    "execution": {
     "iopub.execute_input": "2024-05-20T12:58:20.853019Z",
     "iopub.status.busy": "2024-05-20T12:58:20.852658Z",
     "iopub.status.idle": "2024-05-20T12:58:20.857171Z",
     "shell.execute_reply": "2024-05-20T12:58:20.856278Z"
    },
    "papermill": {
     "duration": 0.069486,
     "end_time": "2024-05-20T12:58:20.859042",
     "exception": false,
     "start_time": "2024-05-20T12:58:20.789556",
     "status": "completed"
    },
    "tags": []
   },
   "outputs": [],
   "source": [
    "labels=['DC','IO','RE','TD']"
   ]
  },
  {
   "cell_type": "code",
   "execution_count": 37,
   "id": "a5219744",
   "metadata": {
    "execution": {
     "iopub.execute_input": "2024-05-20T12:58:20.982757Z",
     "iopub.status.busy": "2024-05-20T12:58:20.982446Z",
     "iopub.status.idle": "2024-05-20T12:58:20.996666Z",
     "shell.execute_reply": "2024-05-20T12:58:20.995576Z"
    },
    "papermill": {
     "duration": 0.078284,
     "end_time": "2024-05-20T12:58:20.998647",
     "exception": false,
     "start_time": "2024-05-20T12:58:20.920363",
     "status": "completed"
    },
    "tags": []
   },
   "outputs": [
    {
     "name": "stdout",
     "output_type": "stream",
     "text": [
      "              precision    recall  f1-score   support\n",
      "\n",
      "          DC       0.89      0.80      0.84        10\n",
      "          IO       0.84      0.92      0.88        59\n",
      "          RE       0.97      0.95      0.96       122\n",
      "          TD       0.90      0.87      0.89        31\n",
      "\n",
      "    accuracy                           0.92       222\n",
      "   macro avg       0.90      0.88      0.89       222\n",
      "weighted avg       0.93      0.92      0.92       222\n",
      "\n"
     ]
    }
   ],
   "source": [
    "from sklearn.metrics import classification_report\n",
    "report = classification_report(y_test, y_pred_class,target_names=labels)\n",
    "print(report)"
   ]
  },
  {
   "cell_type": "code",
   "execution_count": 38,
   "id": "dee33b53",
   "metadata": {
    "execution": {
     "iopub.execute_input": "2024-05-20T12:58:21.126452Z",
     "iopub.status.busy": "2024-05-20T12:58:21.125865Z",
     "iopub.status.idle": "2024-05-20T12:58:21.412870Z",
     "shell.execute_reply": "2024-05-20T12:58:21.412038Z"
    },
    "papermill": {
     "duration": 0.351613,
     "end_time": "2024-05-20T12:58:21.414846",
     "exception": false,
     "start_time": "2024-05-20T12:58:21.063233",
     "status": "completed"
    },
    "tags": []
   },
   "outputs": [
    {
     "data": {
      "image/png": "[encoded data removed]",
      "text/plain": [
       "<Figure size 640x480 with 2 Axes>"
      ]
     },
     "metadata": {},
     "output_type": "display_data"
    }
   ],
   "source": [
    "from sklearn.metrics import confusion_matrix, ConfusionMatrixDisplay\n",
    "cm=confusion_matrix(y_test,y_pred_class)\n",
    "disp = ConfusionMatrixDisplay(confusion_matrix=cm,display_labels=labels)\n",
    "disp.plot()\n",
    "plt.show()"
   ]
  },
  {
   "cell_type": "markdown",
   "id": "e8c2ef7b",
   "metadata": {
    "papermill": {
     "duration": 0.061887,
     "end_time": "2024-05-20T12:58:21.540898",
     "exception": false,
     "start_time": "2024-05-20T12:58:21.479011",
     "status": "completed"
    },
    "tags": []
   },
   "source": [
    "# DeBERTA V3"
   ]
  },
  {
   "cell_type": "code",
   "execution_count": 39,
   "id": "e9c3d7f5",
   "metadata": {
    "execution": {
     "iopub.execute_input": "2024-05-20T12:58:21.671866Z",
     "iopub.status.busy": "2024-05-20T12:58:21.670933Z",
     "iopub.status.idle": "2024-05-20T12:58:23.028162Z",
     "shell.execute_reply": "2024-05-20T12:58:23.027329Z"
    },
    "papermill": {
     "duration": 1.426661,
     "end_time": "2024-05-20T12:58:23.030562",
     "exception": false,
     "start_time": "2024-05-20T12:58:21.603901",
     "status": "completed"
    },
    "tags": []
   },
   "outputs": [
    {
     "name": "stdout",
     "output_type": "stream",
     "text": [
      "Using TensorFlow backend\n"
     ]
    }
   ],
   "source": [
    "import keras_core as keras\n",
    "import keras_nlp"
   ]
  },
  {
   "cell_type": "code",
   "execution_count": 40,
   "id": "a5d8627e",
   "metadata": {
    "execution": {
     "iopub.execute_input": "2024-05-20T12:58:23.157766Z",
     "iopub.status.busy": "2024-05-20T12:58:23.157449Z",
     "iopub.status.idle": "2024-05-20T12:58:46.402448Z",
     "shell.execute_reply": "2024-05-20T12:58:46.401582Z"
    },
    "papermill": {
     "duration": 23.310446,
     "end_time": "2024-05-20T12:58:46.404367",
     "exception": false,
     "start_time": "2024-05-20T12:58:23.093921",
     "status": "completed"
    },
    "tags": []
   },
   "outputs": [
    {
     "name": "stderr",
     "output_type": "stream",
     "text": [
      "Attaching 'tokenizer.json' from model 'keras/deberta_v3/keras/deberta_v3_base_en/2' to your Kaggle notebook...\n",
      "Attaching 'tokenizer.json' from model 'keras/deberta_v3/keras/deberta_v3_base_en/2' to your Kaggle notebook...\n",
      "Attaching 'assets/tokenizer/vocabulary.spm' from model 'keras/deberta_v3/keras/deberta_v3_base_en/2' to your Kaggle notebook...\n",
      "Attaching 'config.json' from model 'keras/deberta_v3/keras/deberta_v3_base_en/2' to your Kaggle notebook...\n",
      "Attaching 'config.json' from model 'keras/deberta_v3/keras/deberta_v3_base_en/2' to your Kaggle notebook...\n",
      "Attaching 'model.weights.h5' from model 'keras/deberta_v3/keras/deberta_v3_base_en/2' to your Kaggle notebook...\n",
      "/opt/conda/lib/python3.10/site-packages/keras_nlp/src/models/backbone.py:37: UserWarning: `Model.state_updates` will be removed in a future version. This property should not be used in TensorFlow 2.0, as `updates` are applied automatically.\n",
      "  return id(getattr(self, attr)) not in self._functional_layer_ids\n",
      "/opt/conda/lib/python3.10/site-packages/keras_nlp/src/models/backbone.py:37: UserWarning: `layer.updates` will be removed in a future version. This property should not be used in TensorFlow 2.0, as `updates` are applied automatically.\n",
      "  return id(getattr(self, attr)) not in self._functional_layer_ids\n"
     ]
    },
    {
     "data": {
      "text/html": [
       "<pre style=\"white-space:pre;overflow-x:auto;line-height:normal;font-family:Menlo,'DejaVu Sans Mono',consolas,'Courier New',monospace\"><span style=\"font-weight: bold\">Preprocessor: \"deberta_v3_preprocessor\"</span>\n",
       "</pre>\n"
      ],
      "text/plain": [
       "\u001b[1mPreprocessor: \"deberta_v3_preprocessor\"\u001b[0m\n"
      ]
     },
     "metadata": {},
     "output_type": "display_data"
    },
    {
     "data": {
      "text/html": [
       "<pre style=\"white-space:pre;overflow-x:auto;line-height:normal;font-family:Menlo,'DejaVu Sans Mono',consolas,'Courier New',monospace\">┏━━━━━━━━━━━━━━━━━━━━━━━━━━━━━━━━━━━━━━━━━━━━━━━━━━━━┳━━━━━━━━━━━━━━━━━━━━━━━━━━━━━━━━━━━━━━━━━━━━━━━━━━━━━┓\n",
       "┃<span style=\"font-weight: bold\"> Tokenizer (type)                                   </span>┃<span style=\"font-weight: bold\">                                             Vocab # </span>┃\n",
       "┡━━━━━━━━━━━━━━━━━━━━━━━━━━━━━━━━━━━━━━━━━━━━━━━━━━━━╇━━━━━━━━━━━━━━━━━━━━━━━━━━━━━━━━━━━━━━━━━━━━━━━━━━━━━┩\n",
       "│ deberta_v3_tokenizer (<span style=\"color: #0087ff; text-decoration-color: #0087ff\">DebertaV3Tokenizer</span>)          │                                             <span style=\"color: #00af00; text-decoration-color: #00af00\">128,001</span> │\n",
       "└────────────────────────────────────────────────────┴─────────────────────────────────────────────────────┘\n",
       "</pre>\n"
      ],
      "text/plain": [
       "┏━━━━━━━━━━━━━━━━━━━━━━━━━━━━━━━━━━━━━━━━━━━━━━━━━━━━┳━━━━━━━━━━━━━━━━━━━━━━━━━━━━━━━━━━━━━━━━━━━━━━━━━━━━━┓\n",
       "┃\u001b[1m \u001b[0m\u001b[1mTokenizer (type)                                  \u001b[0m\u001b[1m \u001b[0m┃\u001b[1m \u001b[0m\u001b[1m                                            Vocab #\u001b[0m\u001b[1m \u001b[0m┃\n",
       "┡━━━━━━━━━━━━━━━━━━━━━━━━━━━━━━━━━━━━━━━━━━━━━━━━━━━━╇━━━━━━━━━━━━━━━━━━━━━━━━━━━━━━━━━━━━━━━━━━━━━━━━━━━━━┩\n",
       "│ deberta_v3_tokenizer (\u001b[38;5;33mDebertaV3Tokenizer\u001b[0m)          │                                             \u001b[38;5;34m128,001\u001b[0m │\n",
       "└────────────────────────────────────────────────────┴─────────────────────────────────────────────────────┘\n"
      ]
     },
     "metadata": {},
     "output_type": "display_data"
    },
    {
     "data": {
      "text/html": [
       "<pre style=\"white-space:pre;overflow-x:auto;line-height:normal;font-family:Menlo,'DejaVu Sans Mono',consolas,'Courier New',monospace\"><span style=\"font-weight: bold\">Model: \"deberta_v3_classifier\"</span>\n",
       "</pre>\n"
      ],
      "text/plain": [
       "\u001b[1mModel: \"deberta_v3_classifier\"\u001b[0m\n"
      ]
     },
     "metadata": {},
     "output_type": "display_data"
    },
    {
     "data": {
      "text/html": [
       "<pre style=\"white-space:pre;overflow-x:auto;line-height:normal;font-family:Menlo,'DejaVu Sans Mono',consolas,'Courier New',monospace\">┏━━━━━━━━━━━━━━━━━━━━━━━━━━━━━━━━━━━━━━━━━━━━━━━┳━━━━━━━━━━━━━━━━━━━━━━━━━━━━━━━━━━━━━━━━┳━━━━━━━━━━━━━━━━━┓\n",
       "┃<span style=\"font-weight: bold\"> Layer (type)                                  </span>┃<span style=\"font-weight: bold\"> Output Shape                           </span>┃<span style=\"font-weight: bold\">         Param # </span>┃\n",
       "┡━━━━━━━━━━━━━━━━━━━━━━━━━━━━━━━━━━━━━━━━━━━━━━━╇━━━━━━━━━━━━━━━━━━━━━━━━━━━━━━━━━━━━━━━━╇━━━━━━━━━━━━━━━━━┩\n",
       "│ padding_mask (<span style=\"color: #0087ff; text-decoration-color: #0087ff\">InputLayer</span>)                     │ (<span style=\"color: #00d7ff; text-decoration-color: #00d7ff\">None</span>, <span style=\"color: #00d7ff; text-decoration-color: #00d7ff\">None</span>)                           │               <span style=\"color: #00af00; text-decoration-color: #00af00\">0</span> │\n",
       "├───────────────────────────────────────────────┼────────────────────────────────────────┼─────────────────┤\n",
       "│ token_ids (<span style=\"color: #0087ff; text-decoration-color: #0087ff\">InputLayer</span>)                        │ (<span style=\"color: #00d7ff; text-decoration-color: #00d7ff\">None</span>, <span style=\"color: #00d7ff; text-decoration-color: #00d7ff\">None</span>)                           │               <span style=\"color: #00af00; text-decoration-color: #00af00\">0</span> │\n",
       "├───────────────────────────────────────────────┼────────────────────────────────────────┼─────────────────┤\n",
       "│ deberta_v3_backbone (<span style=\"color: #0087ff; text-decoration-color: #0087ff\">DebertaV3Backbone</span>)       │ (<span style=\"color: #00d7ff; text-decoration-color: #00d7ff\">None</span>, <span style=\"color: #00d7ff; text-decoration-color: #00d7ff\">None</span>, <span style=\"color: #00af00; text-decoration-color: #00af00\">768</span>)                      │     <span style=\"color: #00af00; text-decoration-color: #00af00\">183,831,552</span> │\n",
       "├───────────────────────────────────────────────┼────────────────────────────────────────┼─────────────────┤\n",
       "│ tf.__operators__.getitem (<span style=\"color: #0087ff; text-decoration-color: #0087ff\">SlicingOpLambda</span>)    │ (<span style=\"color: #00d7ff; text-decoration-color: #00d7ff\">None</span>, <span style=\"color: #00af00; text-decoration-color: #00af00\">768</span>)                            │               <span style=\"color: #00af00; text-decoration-color: #00af00\">0</span> │\n",
       "├───────────────────────────────────────────────┼────────────────────────────────────────┼─────────────────┤\n",
       "│ pooled_dropout (<span style=\"color: #0087ff; text-decoration-color: #0087ff\">Dropout</span>)                      │ (<span style=\"color: #00d7ff; text-decoration-color: #00d7ff\">None</span>, <span style=\"color: #00af00; text-decoration-color: #00af00\">768</span>)                            │               <span style=\"color: #00af00; text-decoration-color: #00af00\">0</span> │\n",
       "├───────────────────────────────────────────────┼────────────────────────────────────────┼─────────────────┤\n",
       "│ pooled_dense (<span style=\"color: #0087ff; text-decoration-color: #0087ff\">Dense</span>)                          │ (<span style=\"color: #00d7ff; text-decoration-color: #00d7ff\">None</span>, <span style=\"color: #00af00; text-decoration-color: #00af00\">768</span>)                            │         <span style=\"color: #00af00; text-decoration-color: #00af00\">590,592</span> │\n",
       "├───────────────────────────────────────────────┼────────────────────────────────────────┼─────────────────┤\n",
       "│ classifier_dropout (<span style=\"color: #0087ff; text-decoration-color: #0087ff\">Dropout</span>)                  │ (<span style=\"color: #00d7ff; text-decoration-color: #00d7ff\">None</span>, <span style=\"color: #00af00; text-decoration-color: #00af00\">768</span>)                            │               <span style=\"color: #00af00; text-decoration-color: #00af00\">0</span> │\n",
       "├───────────────────────────────────────────────┼────────────────────────────────────────┼─────────────────┤\n",
       "│ logits (<span style=\"color: #0087ff; text-decoration-color: #0087ff\">Dense</span>)                                │ (<span style=\"color: #00d7ff; text-decoration-color: #00d7ff\">None</span>, <span style=\"color: #00af00; text-decoration-color: #00af00\">4</span>)                              │           <span style=\"color: #00af00; text-decoration-color: #00af00\">3,076</span> │\n",
       "└───────────────────────────────────────────────┴────────────────────────────────────────┴─────────────────┘\n",
       "</pre>\n"
      ],
      "text/plain": [
       "┏━━━━━━━━━━━━━━━━━━━━━━━━━━━━━━━━━━━━━━━━━━━━━━━┳━━━━━━━━━━━━━━━━━━━━━━━━━━━━━━━━━━━━━━━━┳━━━━━━━━━━━━━━━━━┓\n",
       "┃\u001b[1m \u001b[0m\u001b[1mLayer (type)                                 \u001b[0m\u001b[1m \u001b[0m┃\u001b[1m \u001b[0m\u001b[1mOutput Shape                          \u001b[0m\u001b[1m \u001b[0m┃\u001b[1m \u001b[0m\u001b[1m        Param #\u001b[0m\u001b[1m \u001b[0m┃\n",
       "┡━━━━━━━━━━━━━━━━━━━━━━━━━━━━━━━━━━━━━━━━━━━━━━━╇━━━━━━━━━━━━━━━━━━━━━━━━━━━━━━━━━━━━━━━━╇━━━━━━━━━━━━━━━━━┩\n",
       "│ padding_mask (\u001b[38;5;33mInputLayer\u001b[0m)                     │ (\u001b[38;5;45mNone\u001b[0m, \u001b[38;5;45mNone\u001b[0m)                           │               \u001b[38;5;34m0\u001b[0m │\n",
       "├───────────────────────────────────────────────┼────────────────────────────────────────┼─────────────────┤\n",
       "│ token_ids (\u001b[38;5;33mInputLayer\u001b[0m)                        │ (\u001b[38;5;45mNone\u001b[0m, \u001b[38;5;45mNone\u001b[0m)                           │               \u001b[38;5;34m0\u001b[0m │\n",
       "├───────────────────────────────────────────────┼────────────────────────────────────────┼─────────────────┤\n",
       "│ deberta_v3_backbone (\u001b[38;5;33mDebertaV3Backbone\u001b[0m)       │ (\u001b[38;5;45mNone\u001b[0m, \u001b[38;5;45mNone\u001b[0m, \u001b[38;5;34m768\u001b[0m)                      │     \u001b[38;5;34m183,831,552\u001b[0m │\n",
       "├───────────────────────────────────────────────┼────────────────────────────────────────┼─────────────────┤\n",
       "│ tf.__operators__.getitem (\u001b[38;5;33mSlicingOpLambda\u001b[0m)    │ (\u001b[38;5;45mNone\u001b[0m, \u001b[38;5;34m768\u001b[0m)                            │               \u001b[38;5;34m0\u001b[0m │\n",
       "├───────────────────────────────────────────────┼────────────────────────────────────────┼─────────────────┤\n",
       "│ pooled_dropout (\u001b[38;5;33mDropout\u001b[0m)                      │ (\u001b[38;5;45mNone\u001b[0m, \u001b[38;5;34m768\u001b[0m)                            │               \u001b[38;5;34m0\u001b[0m │\n",
       "├───────────────────────────────────────────────┼────────────────────────────────────────┼─────────────────┤\n",
       "│ pooled_dense (\u001b[38;5;33mDense\u001b[0m)                          │ (\u001b[38;5;45mNone\u001b[0m, \u001b[38;5;34m768\u001b[0m)                            │         \u001b[38;5;34m590,592\u001b[0m │\n",
       "├───────────────────────────────────────────────┼────────────────────────────────────────┼─────────────────┤\n",
       "│ classifier_dropout (\u001b[38;5;33mDropout\u001b[0m)                  │ (\u001b[38;5;45mNone\u001b[0m, \u001b[38;5;34m768\u001b[0m)                            │               \u001b[38;5;34m0\u001b[0m │\n",
       "├───────────────────────────────────────────────┼────────────────────────────────────────┼─────────────────┤\n",
       "│ logits (\u001b[38;5;33mDense\u001b[0m)                                │ (\u001b[38;5;45mNone\u001b[0m, \u001b[38;5;34m4\u001b[0m)                              │           \u001b[38;5;34m3,076\u001b[0m │\n",
       "└───────────────────────────────────────────────┴────────────────────────────────────────┴─────────────────┘\n"
      ]
     },
     "metadata": {},
     "output_type": "display_data"
    },
    {
     "data": {
      "text/html": [
       "<pre style=\"white-space:pre;overflow-x:auto;line-height:normal;font-family:Menlo,'DejaVu Sans Mono',consolas,'Courier New',monospace\"><span style=\"font-weight: bold\"> Total params: </span><span style=\"color: #00af00; text-decoration-color: #00af00\">184,425,220</span> (703.53 MB)\n",
       "</pre>\n"
      ],
      "text/plain": [
       "\u001b[1m Total params: \u001b[0m\u001b[38;5;34m184,425,220\u001b[0m (703.53 MB)\n"
      ]
     },
     "metadata": {},
     "output_type": "display_data"
    },
    {
     "data": {
      "text/html": [
       "<pre style=\"white-space:pre;overflow-x:auto;line-height:normal;font-family:Menlo,'DejaVu Sans Mono',consolas,'Courier New',monospace\"><span style=\"font-weight: bold\"> Trainable params: </span><span style=\"color: #00af00; text-decoration-color: #00af00\">184,425,220</span> (703.53 MB)\n",
       "</pre>\n"
      ],
      "text/plain": [
       "\u001b[1m Trainable params: \u001b[0m\u001b[38;5;34m184,425,220\u001b[0m (703.53 MB)\n"
      ]
     },
     "metadata": {},
     "output_type": "display_data"
    },
    {
     "data": {
      "text/html": [
       "<pre style=\"white-space:pre;overflow-x:auto;line-height:normal;font-family:Menlo,'DejaVu Sans Mono',consolas,'Courier New',monospace\"><span style=\"font-weight: bold\"> Non-trainable params: </span><span style=\"color: #00af00; text-decoration-color: #00af00\">0</span> (0.00 B)\n",
       "</pre>\n"
      ],
      "text/plain": [
       "\u001b[1m Non-trainable params: \u001b[0m\u001b[38;5;34m0\u001b[0m (0.00 B)\n"
      ]
     },
     "metadata": {},
     "output_type": "display_data"
    }
   ],
   "source": [
    "# Load a DistilBERT model.\n",
    "preset= \"deberta_v3_base_en\"\n",
    "\n",
    "# Use a shorter sequence length.\n",
    "preprocessor = keras_nlp.models.DebertaV3Preprocessor.from_preset(preset,\n",
    "                                                                   sequence_length=256,\n",
    "                                                                  )\n",
    "\n",
    "# Pretrained classifier.\n",
    "classifier = keras_nlp.models.DebertaV3Classifier.from_preset(preset,\n",
    "                                                               preprocessor = preprocessor,\n",
    "                                                               num_classes=4)\n",
    "\n",
    "classifier.summary()"
   ]
  },
  {
   "cell_type": "code",
   "execution_count": 41,
   "id": "e2fdb096",
   "metadata": {
    "execution": {
     "iopub.execute_input": "2024-05-20T12:58:46.535736Z",
     "iopub.status.busy": "2024-05-20T12:58:46.535417Z",
     "iopub.status.idle": "2024-05-20T12:58:46.540250Z",
     "shell.execute_reply": "2024-05-20T12:58:46.539491Z"
    },
    "papermill": {
     "duration": 0.072955,
     "end_time": "2024-05-20T12:58:46.542036",
     "exception": false,
     "start_time": "2024-05-20T12:58:46.469081",
     "status": "completed"
    },
    "tags": []
   },
   "outputs": [],
   "source": [
    "checkpoint_path = 'training/best_model.ckpt'\n",
    "checkpoint_dir = os.path.dirname(checkpoint_path)\n",
    "model_checkpoint_callback = tf.keras.callbacks.ModelCheckpoint(\n",
    "    filepath=checkpoint_path,\n",
    "    monitor='val_accuracy',\n",
    "    mode='max',\n",
    "    save_best_only=True,\n",
    "    verbose=1)"
   ]
  },
  {
   "cell_type": "code",
   "execution_count": 42,
   "id": "b838ea7c",
   "metadata": {
    "execution": {
     "iopub.execute_input": "2024-05-20T12:58:46.671549Z",
     "iopub.status.busy": "2024-05-20T12:58:46.671206Z",
     "iopub.status.idle": "2024-05-20T12:58:46.675993Z",
     "shell.execute_reply": "2024-05-20T12:58:46.675243Z"
    },
    "papermill": {
     "duration": 0.071703,
     "end_time": "2024-05-20T12:58:46.677753",
     "exception": false,
     "start_time": "2024-05-20T12:58:46.606050",
     "status": "completed"
    },
    "tags": []
   },
   "outputs": [],
   "source": [
    "from keras.callbacks import EarlyStopping,ReduceLROnPlateau\n",
    "early_stop = EarlyStopping(monitor='val_loss',patience=3,verbose=True,restore_best_weights=True)\n",
    "reduce_lr = ReduceLROnPlateau(monitor='val_loss', factor=0.2, patience=3, min_lr=1e-6)"
   ]
  },
  {
   "cell_type": "code",
   "execution_count": 43,
   "id": "2f5a59bf",
   "metadata": {
    "execution": {
     "iopub.execute_input": "2024-05-20T12:58:46.808460Z",
     "iopub.status.busy": "2024-05-20T12:58:46.808119Z",
     "iopub.status.idle": "2024-05-20T12:58:46.830290Z",
     "shell.execute_reply": "2024-05-20T12:58:46.829299Z"
    },
    "papermill": {
     "duration": 0.090192,
     "end_time": "2024-05-20T12:58:46.832342",
     "exception": false,
     "start_time": "2024-05-20T12:58:46.742150",
     "status": "completed"
    },
    "tags": []
   },
   "outputs": [],
   "source": [
    "# Compile\n",
    "classifier.compile(\n",
    "    loss=tf.keras.losses.CategoricalCrossentropy(from_logits=True),\n",
    "    optimizer=tf.keras.optimizers.Adam(1e-5),\n",
    "    metrics= [\"accuracy\"]\n",
    ")"
   ]
  },
  {
   "cell_type": "code",
   "execution_count": 44,
   "id": "4240fa1f",
   "metadata": {
    "execution": {
     "iopub.execute_input": "2024-05-20T12:58:46.969392Z",
     "iopub.status.busy": "2024-05-20T12:58:46.969051Z",
     "iopub.status.idle": "2024-05-20T13:23:02.970764Z",
     "shell.execute_reply": "2024-05-20T13:23:02.969971Z"
    },
    "papermill": {
     "duration": 1456.069912,
     "end_time": "2024-05-20T13:23:02.972636",
     "exception": false,
     "start_time": "2024-05-20T12:58:46.902724",
     "status": "completed"
    },
    "tags": []
   },
   "outputs": [
    {
     "name": "stdout",
     "output_type": "stream",
     "text": [
      "Epoch 1/10\n",
      "125/125 [==============================] - 248s 2s/step - loss: 0.9251 - accuracy: 0.6481 - val_loss: 0.6698 - val_accuracy: 0.7342\n",
      "Epoch 2/10\n",
      "125/125 [==============================] - 173s 1s/step - loss: 0.6200 - accuracy: 0.7794 - val_loss: 0.4906 - val_accuracy: 0.8243\n",
      "Epoch 3/10\n",
      "125/125 [==============================] - 172s 1s/step - loss: 0.4905 - accuracy: 0.8306 - val_loss: 0.3971 - val_accuracy: 0.8784\n",
      "Epoch 4/10\n",
      "125/125 [==============================] - 171s 1s/step - loss: 0.4060 - accuracy: 0.8602 - val_loss: 0.4057 - val_accuracy: 0.8649\n",
      "Epoch 5/10\n",
      "125/125 [==============================] - 172s 1s/step - loss: 0.3281 - accuracy: 0.8872 - val_loss: 0.3846 - val_accuracy: 0.8874\n",
      "Epoch 6/10\n",
      "125/125 [==============================] - 171s 1s/step - loss: 0.2851 - accuracy: 0.9068 - val_loss: 0.4766 - val_accuracy: 0.8514\n",
      "Epoch 7/10\n",
      "125/125 [==============================] - 171s 1s/step - loss: 0.2720 - accuracy: 0.9093 - val_loss: 0.4540 - val_accuracy: 0.8649\n",
      "Epoch 8/10\n",
      "125/125 [==============================] - ETA: 0s - loss: 0.2620 - accuracy: 0.9078Restoring model weights from the end of the best epoch: 5.\n",
      "125/125 [==============================] - 172s 1s/step - loss: 0.2620 - accuracy: 0.9078 - val_loss: 0.5607 - val_accuracy: 0.8333\n",
      "Epoch 8: early stopping\n"
     ]
    }
   ],
   "source": [
    "# Fit\n",
    "history = classifier.fit(x=X_train,\n",
    "                         y=y_train_encoded,\n",
    "                         batch_size=16,\n",
    "                         epochs=10,\n",
    "                         validation_data=(X_test,y_test_encoded),\n",
    "                         callbacks=[early_stop]\n",
    "                        )"
   ]
  },
  {
   "cell_type": "code",
   "execution_count": 45,
   "id": "4352e65a",
   "metadata": {
    "execution": {
     "iopub.execute_input": "2024-05-20T13:23:03.262244Z",
     "iopub.status.busy": "2024-05-20T13:23:03.261369Z",
     "iopub.status.idle": "2024-05-20T13:23:10.350954Z",
     "shell.execute_reply": "2024-05-20T13:23:10.350068Z"
    },
    "papermill": {
     "duration": 7.236506,
     "end_time": "2024-05-20T13:23:10.352857",
     "exception": false,
     "start_time": "2024-05-20T13:23:03.116351",
     "status": "completed"
    },
    "tags": []
   },
   "outputs": [
    {
     "name": "stdout",
     "output_type": "stream",
     "text": [
      "7/7 [==============================] - 7s 889ms/step - loss: 0.3846 - accuracy: 0.8874\n",
      "Test Loss: 0.38464999198913574, Test Accuracy: 0.8873873949050903\n"
     ]
    }
   ],
   "source": [
    "test_loss, test_accuracy=classifier.evaluate(X_test,y_test_encoded)\n",
    "print(f'Test Loss: {test_loss}, Test Accuracy: {test_accuracy}')"
   ]
  },
  {
   "cell_type": "code",
   "execution_count": 46,
   "id": "106e33e6",
   "metadata": {
    "execution": {
     "iopub.execute_input": "2024-05-20T13:23:10.642987Z",
     "iopub.status.busy": "2024-05-20T13:23:10.642649Z",
     "iopub.status.idle": "2024-05-20T13:23:11.967171Z",
     "shell.execute_reply": "2024-05-20T13:23:11.966249Z"
    },
    "papermill": {
     "duration": 1.471538,
     "end_time": "2024-05-20T13:23:11.969746",
     "exception": false,
     "start_time": "2024-05-20T13:23:10.498208",
     "status": "completed"
    },
    "tags": []
   },
   "outputs": [
    {
     "data": {
      "image/png": "[encoded data removed]",
      "text/plain": [
       "<Figure size 800x800 with 1 Axes>"
      ]
     },
     "metadata": {},
     "output_type": "display_data"
    }
   ],
   "source": [
    "acc = history.history['accuracy']\n",
    "val_acc = history.history['val_accuracy']\n",
    "loss = history.history['loss']\n",
    "val_loss = history.history['val_loss']\n",
    "epochs_range = range(len(acc))\n",
    "\n",
    "plt.figure(figsize=(8,8))\n",
    "plt.plot(epochs_range,acc,label='Training Accuracy')\n",
    "plt.plot(epochs_range,val_acc,label = 'Validation Accuracy')\n",
    "plt.legend(['train', 'test'], loc='upper left')\n",
    "plt.title('Training and Validation Accuracy')\n",
    "plt.ylabel('Accuracy')\n",
    "plt.xlabel('Epoch')\n",
    "plt.savefig('Training and Validation Accuracy.pdf')\n",
    "plt.show()"
   ]
  },
  {
   "cell_type": "code",
   "execution_count": 47,
   "id": "b8b23787",
   "metadata": {
    "execution": {
     "iopub.execute_input": "2024-05-20T13:23:12.313425Z",
     "iopub.status.busy": "2024-05-20T13:23:12.312022Z",
     "iopub.status.idle": "2024-05-20T13:23:12.628522Z",
     "shell.execute_reply": "2024-05-20T13:23:12.627639Z"
    },
    "papermill": {
     "duration": 0.510129,
     "end_time": "2024-05-20T13:23:12.630613",
     "exception": false,
     "start_time": "2024-05-20T13:23:12.120484",
     "status": "completed"
    },
    "tags": []
   },
   "outputs": [
    {
     "data": {
      "image/png": "[encoded data removed]",
      "text/plain": [
       "<Figure size 800x800 with 1 Axes>"
      ]
     },
     "metadata": {},
     "output_type": "display_data"
    }
   ],
   "source": [
    "def plot_metrics(history, metric):\n",
    "    train_metric = history.history[metric]\n",
    "    val_metric = history.history[f'val_{metric}']\n",
    "    epochs = range(1, len(train_metric)+1)\n",
    "\n",
    "    plt.figure(figsize=(8,8))\n",
    "    plt.plot(epochs,train_metric,label = f'Training {metric}')\n",
    "    plt.plot(epochs,val_metric,label = f'Validation {metric}')\n",
    "    plt.title(f'Training and Validation {metric.capitalize()}')\n",
    "    plt.xlabel('Epoch')\n",
    "    plt.ylabel(metric.capitalize())\n",
    "    plt.legend(['train', 'test'],loc='upper left')\n",
    "    plt.show()\n",
    "#Training and validation loss plot\n",
    "plot_metrics(history, metric='loss')"
   ]
  },
  {
   "cell_type": "code",
   "execution_count": 48,
   "id": "b3a4c687",
   "metadata": {
    "execution": {
     "iopub.execute_input": "2024-05-20T13:23:12.928570Z",
     "iopub.status.busy": "2024-05-20T13:23:12.927711Z",
     "iopub.status.idle": "2024-05-20T13:23:24.111259Z",
     "shell.execute_reply": "2024-05-20T13:23:24.110241Z"
    },
    "papermill": {
     "duration": 11.334798,
     "end_time": "2024-05-20T13:23:24.113471",
     "exception": false,
     "start_time": "2024-05-20T13:23:12.778673",
     "status": "completed"
    },
    "tags": []
   },
   "outputs": [
    {
     "name": "stdout",
     "output_type": "stream",
     "text": [
      "7/7 [==============================] - 11s 879ms/step\n"
     ]
    }
   ],
   "source": [
    "#prediction\n",
    "y_pred = classifier.predict(X_test)\n",
    "y_pred_class = y_pred.argmax(axis=1)"
   ]
  },
  {
   "cell_type": "code",
   "execution_count": 49,
   "id": "235c835a",
   "metadata": {
    "execution": {
     "iopub.execute_input": "2024-05-20T13:23:24.409797Z",
     "iopub.status.busy": "2024-05-20T13:23:24.408919Z",
     "iopub.status.idle": "2024-05-20T13:23:24.413434Z",
     "shell.execute_reply": "2024-05-20T13:23:24.412555Z"
    },
    "papermill": {
     "duration": 0.153902,
     "end_time": "2024-05-20T13:23:24.415250",
     "exception": false,
     "start_time": "2024-05-20T13:23:24.261348",
     "status": "completed"
    },
    "tags": []
   },
   "outputs": [],
   "source": [
    "labels=['DC','IO','RE','TD']"
   ]
  },
  {
   "cell_type": "code",
   "execution_count": 50,
   "id": "38764521",
   "metadata": {
    "execution": {
     "iopub.execute_input": "2024-05-20T13:23:24.712600Z",
     "iopub.status.busy": "2024-05-20T13:23:24.711874Z",
     "iopub.status.idle": "2024-05-20T13:23:24.725810Z",
     "shell.execute_reply": "2024-05-20T13:23:24.724825Z"
    },
    "papermill": {
     "duration": 0.165384,
     "end_time": "2024-05-20T13:23:24.727822",
     "exception": false,
     "start_time": "2024-05-20T13:23:24.562438",
     "status": "completed"
    },
    "tags": []
   },
   "outputs": [
    {
     "name": "stdout",
     "output_type": "stream",
     "text": [
      "              precision    recall  f1-score   support\n",
      "\n",
      "          DC       0.89      0.80      0.84        10\n",
      "          IO       0.81      0.88      0.85        59\n",
      "          RE       0.97      0.93      0.95       122\n",
      "          TD       0.74      0.74      0.74        31\n",
      "\n",
      "    accuracy                           0.89       222\n",
      "   macro avg       0.85      0.84      0.84       222\n",
      "weighted avg       0.89      0.89      0.89       222\n",
      "\n"
     ]
    }
   ],
   "source": [
    "from sklearn.metrics import classification_report\n",
    "report = classification_report(y_test, y_pred_class,target_names=labels)\n",
    "print(report)"
   ]
  },
  {
   "cell_type": "code",
   "execution_count": 51,
   "id": "10c4b769",
   "metadata": {
    "execution": {
     "iopub.execute_input": "2024-05-20T13:23:25.027995Z",
     "iopub.status.busy": "2024-05-20T13:23:25.027143Z",
     "iopub.status.idle": "2024-05-20T13:23:25.317766Z",
     "shell.execute_reply": "2024-05-20T13:23:25.316818Z"
    },
    "papermill": {
     "duration": 0.440566,
     "end_time": "2024-05-20T13:23:25.319907",
     "exception": false,
     "start_time": "2024-05-20T13:23:24.879341",
     "status": "completed"
    },
    "tags": []
   },
   "outputs": [
    {
     "data": {
      "image/png": "[encoded data removed]",
      "text/plain": [
       "<Figure size 640x480 with 2 Axes>"
      ]
     },
     "metadata": {},
     "output_type": "display_data"
    }
   ],
   "source": [
    "from sklearn.metrics import confusion_matrix, ConfusionMatrixDisplay\n",
    "cm=confusion_matrix(y_test,y_pred_class)\n",
    "disp = ConfusionMatrixDisplay(confusion_matrix=cm,display_labels=labels)\n",
    "disp.plot()\n",
    "plt.show()"
   ]
  }
 ],
 "metadata": {
  "kaggle": {
   "accelerator": "nvidiaTeslaT4",
   "dataSources": [
    {
     "datasetId": 4258918,
     "sourceId": 7336130,
     "sourceType": "datasetVersion"
    },
    {
     "modelInstanceId": 4686,
     "sourceId": 6065,
     "sourceType": "modelInstanceVersion"
    }
   ],
   "dockerImageVersionId": 30636,
   "isGpuEnabled": true,
   "isInternetEnabled": true,
   "language": "python",
   "sourceType": "notebook"
  },
  "kernelspec": {
   "display_name": "Python 3",
   "language": "python",
   "name": "python3"
  },
  "language_info": {
   "codemirror_mode": {
    "name": "ipython",
    "version": 3
   },
   "file_extension": ".py",
   "mimetype": "text/x-python",
   "name": "python",
   "nbconvert_exporter": "python",
   "pygments_lexer": "ipython3",
   "version": "3.10.12"
  },
  "papermill": {
   "default_parameters": {},
   "duration": 2059.610029,
   "end_time": "2024-05-20T13:23:28.561419",
   "environment_variables": {},
   "exception": null,
   "input_path": "__notebook__.ipynb",
   "output_path": "__notebook__.ipynb",
   "parameters": {},
   "start_time": "2024-05-20T12:49:08.951390",
   "version": "2.4.0"
  }
 },
 "nbformat": 4,
 "nbformat_minor": 5
}
